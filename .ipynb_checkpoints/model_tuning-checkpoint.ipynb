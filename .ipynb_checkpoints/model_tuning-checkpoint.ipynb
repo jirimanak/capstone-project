{
 "cells": [
  {
   "cell_type": "markdown",
   "metadata": {},
   "source": [
    "# Model Tuning #"
   ]
  },
  {
   "cell_type": "code",
   "execution_count": 2,
   "metadata": {
    "collapsed": false
   },
   "outputs": [],
   "source": [
    "# Import libraries necessary for this project\n",
    "import numpy as np\n",
    "import pandas as pd\n",
    "import matplotlib.pyplot as plt\n",
    "\n",
    "import usefull_methods as um\n",
    "import do_actions as do\n",
    "\n",
    "from stopwatch import Stopwatch\n",
    "stopwatch = Stopwatch()\n",
    "\n",
    "# Pretty display for notebooks\n",
    "%matplotlib inline\n"
   ]
  },
  {
   "cell_type": "code",
   "execution_count": 199,
   "metadata": {
    "collapsed": true
   },
   "outputs": [],
   "source": [
    "def print_shape(data, name):\n",
    "    print(\"{0}: {1}\".format(name, data.shape))\n",
    "    \n",
    "def print_versions(data1, data2, idx ):\n",
    "    print(\"TEST[{2}]  {0} == {1}\".format(data1[idx], data2[idx], idx))\n",
    "    \n",
    "def print_model_param(drop_columns_, do_dummies_, unskew_data_, do_scaling_):\n",
    "    if drop_columns_:\n",
    "        print(\"DROP FEATURES  is ON\")\n",
    "    else:\n",
    "        print(\"DROP FEATURES  is OFF\")\n",
    "\n",
    "    if do_dummies_:\n",
    "        print(\"ONE HOT ENCODE is ON\")\n",
    "    else:\n",
    "        print(\"ONE HOT ENCODE is OFF\")\n",
    "\n",
    "    if unskew_data_:\n",
    "        print(\"UNSKEW DATA    is ON\")\n",
    "    else:\n",
    "        print(\"UNSKEW DATA    is OFF\")\n",
    "\n",
    "    if do_scaling_:\n",
    "        print(\"SCALING        is ON\")\n",
    "    else:\n",
    "        print(\"SCALING        is OFF\")\n",
    "    "
   ]
  },
  {
   "cell_type": "markdown",
   "metadata": {},
   "source": [
    "# Handle Missing Data#"
   ]
  },
  {
   "cell_type": "code",
   "execution_count": 74,
   "metadata": {
    "collapsed": true
   },
   "outputs": [],
   "source": [
    "def show_missing(data):\n",
    "    # df.isnull() Return a boolean same-sized object indicating if the values are null.\n",
    "    # df.any() Return whether any element is True over requested axis\n",
    "    #\n",
    "    missing = data.columns[data.isnull().any()].tolist()\n",
    "    return missing\n",
    "\n",
    "# Looking at categorical values\n",
    "def cat_exploration(data, column):\n",
    "    return data[column].value_counts()\n",
    "\n",
    "# deleting missing data\n",
    "def handle_missing(data, column, value):\n",
    "    data.loc[data[column].isnull(),column] = value\n",
    "    return data\n",
    "\n",
    "def count_missing(data):\n",
    "    data[show_missing(data)].isnull().sum()"
   ]
  },
  {
   "cell_type": "code",
   "execution_count": 5,
   "metadata": {
    "collapsed": true
   },
   "outputs": [],
   "source": [
    "def do_handle_missing_data(data):\n",
    "    data = handle_missing(data, 'PoolQC', 'None')\n",
    "    data = handle_missing(data, 'MiscFeature', 'None' )\n",
    "    data = handle_missing(data, 'Alley', 'None' )\n",
    "    data = handle_missing(data, 'Fence', 'None' )\n",
    "    data = handle_missing(data, 'FireplaceQu', 'None' )\n",
    "    data = handle_missing(data, 'LotFrontage', 0.0 )\n",
    "    \n",
    "    data = handle_missing(data, 'GarageType', 'None' )\n",
    "    data = handle_missing(data, 'GarageYrBlt', 0.0 )\n",
    "    data = handle_missing(data, 'GarageFinish', 'None' )\n",
    "    data = handle_missing(data, 'GarageQual', 'None' )\n",
    "    data = handle_missing(data, 'GarageCond', 'None' )\n",
    "    data = handle_missing(data, 'GarageArea', 0.0 )\n",
    "    data = handle_missing(data, 'GarageCars', 'None' )\n",
    " \n",
    "    data = handle_missing(data, 'BsmtQual', 'None' )\n",
    "    data = handle_missing(data, 'BsmtCond', 'None' )\n",
    "    data = handle_missing(data, 'BsmtExposure', 'None' )\n",
    "    data = handle_missing(data, 'BsmtFinType1', 'None' )\n",
    "    data = handle_missing(data, 'BsmtFinType2', 'None' )\n",
    "    \n",
    "    data = handle_missing(data, 'BsmtFinSF1', 0.0)\n",
    "    data = handle_missing(data, 'BsmtFinSF2', 0.0 )\n",
    "    data = handle_missing(data, 'BsmtFullBath', 'None' )\n",
    "    data = handle_missing(data, 'BsmtHalfBath', 'None' )\n",
    "    data = handle_missing(data, 'BsmtUnfSF', 0.0 )\n",
    "    \n",
    "    data = handle_missing(data, 'TotalBsmtSF', 0.0 )\n",
    "    data = handle_missing(data, 'MasVnrArea', 0.0 )\n",
    "    \n",
    "    # missing data replaced by most frequent value\n",
    "    data = handle_missing(data, 'MasVnrType', 'None' )\n",
    "    data = handle_missing(data, 'Electrical','SBrkr' )\n",
    "    data = handle_missing(data, 'Functional','Typ' )\n",
    "    data = handle_missing(data, 'KitchenQual','TA' )\n",
    "    data = handle_missing(data, 'MSZoning','RL' )\n",
    "    data = handle_missing(data, 'Exterior1st','VinylSd' )\n",
    "    data = handle_missing(data, 'Exterior2nd','VinylSd' )    \n",
    "    data = handle_missing(data, 'SaleType','WD' )\n",
    "    \n",
    "    # not in training set\n",
    "    data = data.drop(['Utilities'], axis=1)\n",
    "    \n",
    "    return data"
   ]
  },
  {
   "cell_type": "markdown",
   "metadata": {},
   "source": [
    "# Handle Categorical  Data #"
   ]
  },
  {
   "cell_type": "code",
   "execution_count": 6,
   "metadata": {
    "collapsed": true
   },
   "outputs": [],
   "source": [
    "categoricaldata = ('MiscFeature', 'Alley', 'Fence', 'FireplaceQu', 'PoolQC',\n",
    "                       'Street', 'BsmtCond', 'GarageCond', 'GarageQual',\n",
    "                      'BsmtQual', 'CentralAir', 'ExterQual', 'ExterCond', 'HeatingQC',\n",
    "                      'KitchenQual', 'BsmtFinType1','BsmtFinType2', 'Functional',\n",
    "                      'BsmtExposure', 'GarageFinish','LandSlope', 'LotShape', 'MSZoning',\n",
    "                      'LandContour', 'LotConfig', 'Neighborhood', 'Condition1',\n",
    "                      'Condition2', 'BldgType', 'HouseStyle', 'RoofStyle', 'RoofMatl', 'Exterior1st',\n",
    "                      'Exterior2nd', 'MasVnrType', 'Foundation', 'Heating', 'Electrical', 'GarageType',\n",
    "                      'PavedDrive', 'SaleType', 'SaleCondition')"
   ]
  },
  {
   "cell_type": "markdown",
   "metadata": {},
   "source": [
    "# Data Skew #"
   ]
  },
  {
   "cell_type": "code",
   "execution_count": 75,
   "metadata": {
    "collapsed": false
   },
   "outputs": [
    {
     "name": "stdout",
     "output_type": "stream",
     "text": [
      "accepted\n"
     ]
    }
   ],
   "source": [
    "from scipy.special import boxcox1p\n",
    "\n",
    "def check_skewed(data, treshold):\n",
    "    skewcheck = data.dtypes[data.dtypes != \"object\"].index\n",
    "    skewed = data[skewcheck].skew().sort_values(ascending=False)\n",
    "    skew_df = pd.DataFrame(skewed)\n",
    "    skew_df = abs(skew_df)\n",
    "    skew_df = skew_df[skew_df > treshold]\n",
    "    skew_df = skew_df.dropna()\n",
    "    return skew_df\n",
    "\n",
    "def unskew_boxcox1p(data, skew_df, lm):\n",
    "    needs_fixing = skew_df.index\n",
    "    for x in needs_fixing:\n",
    "        data[x] = boxcox1p(data[x], lm)\n",
    "        #data[x] += 1\n",
    "    return data\n",
    "\n",
    "def unskew_boxcox1p_all(data, lm):\n",
    "    return boxcox1p(data, lm)\n",
    "\n",
    "from scipy.special import inv_boxcox1p\n",
    "\n",
    "def skew_inv_boxcox1p(data, lm):\n",
    "    return inv_boxcox1p(data, lm)\n",
    "    \n",
    "print(\"accepted\")    "
   ]
  },
  {
   "cell_type": "code",
   "execution_count": 54,
   "metadata": {
    "collapsed": false
   },
   "outputs": [
    {
     "name": "stdout",
     "output_type": "stream",
     "text": [
      "TEST  [ 1976.] == 1976\n",
      "TEST  [ 1951.] == 1951\n"
     ]
    }
   ],
   "source": [
    "# test\n",
    "\n",
    "test_data = data_train['YearBuilt']\n",
    "test_data_unskewed = unskew_boxcox1p_all(test_data, 0.75)\n",
    "test_scaler = StandardScaler()\n",
    "test_scaler.fit(test_data_unskewed.values.reshape(-1,1))\n",
    "test_data_unskewed_scaled = test_scaler.transform(test_data_unskewed.values.reshape(-1,1))\n",
    "\n",
    "test_data_unskewed_scaled_inv = test_scaler.inverse_transform(test_data_unskewed_scaled)\n",
    "test_data_unskewed_skewed = skew_inv_boxcox1p(test_data_unskewed_scaled_inv, 0.75)\n",
    "\n",
    "print(\"TEST  {0} == {1}\".format(test_data_unskewed_skewed[1], test_data[1]))\n",
    "print(\"TEST  {0} == {1}\".format(test_data_unskewed_skewed[26], test_data[26]))"
   ]
  },
  {
   "cell_type": "markdown",
   "metadata": {},
   "source": [
    "# Data Drop #"
   ]
  },
  {
   "cell_type": "code",
   "execution_count": 8,
   "metadata": {
    "collapsed": true
   },
   "outputs": [],
   "source": [
    "def do_remove_outliers_simple(data):\n",
    "    data = data.drop(data[(data['GrLivArea']>4000) & (data['SalePrice']<300000)].index)\n",
    "    return data\n",
    "\n",
    "def do_outliers_Ids(data):\n",
    "    a = data['GrLivArea']>4000\n",
    "    b = data['SalePrice']<300000\n",
    "    f = [a, b]\n",
    "    return pd.concat(f)"
   ]
  },
  {
   "cell_type": "markdown",
   "metadata": {},
   "source": [
    "\n",
    "# Standardization data_train, data_test = um.load_data()\n",
    "\n",
    "data_train = do_handle_missing_data(data_train)\n",
    "data_train = pd.get_dummies(data_train, columns=list(categoricaldata))\n",
    "\n",
    "scalerdata = ['1stFlrSF', '2ndFlrSF', '3SsnPorch', 'BedroomAbvGr', 'BsmtFinSF1', \n",
    "                 'BsmtFinSF2', 'BsmtUnfSF', 'EnclosedPorch', \n",
    "                 'Fireplaces',  'GarageYrBlt', 'HalfBath', 'FullBath',\n",
    "                 'GrLivArea',  'KitchenAbvGr', 'LotArea', 'LotFrontage', \n",
    "                 'LowQualFinSF', 'MSSubClass', 'MasVnrArea', 'MiscVal', 'MoSold', 'OpenPorchSF', \n",
    "                 'OverallCond', 'OverallQual', 'PoolArea', 'ScreenPorch', \n",
    "                 'TotRmsAbvGrd', 'TotalBsmtSF', 'WoodDeckSF', 'YearBuilt', 'YearRemodAdd', 'YrSold']\n",
    "\n",
    "#   'GarageCars', 'SalePrice', 'BsmtFullBath', 'BsmtHalfBath', \n",
    "\n",
    "from sklearn.preprocessing import StandardScaler#\n"
   ]
  },
  {
   "cell_type": "code",
   "execution_count": 102,
   "metadata": {
    "collapsed": true
   },
   "outputs": [],
   "source": [
    "scalerdata = ['1stFlrSF', '2ndFlrSF', '3SsnPorch', 'BedroomAbvGr', 'BsmtFinSF1', \n",
    "                 'BsmtFinSF2', 'BsmtUnfSF', 'EnclosedPorch', \n",
    "                 'Fireplaces',  'GarageYrBlt', 'HalfBath', 'FullBath',\n",
    "                 'GrLivArea',  'KitchenAbvGr', 'LotArea', 'LotFrontage', \n",
    "                 'LowQualFinSF', 'MSSubClass', 'MasVnrArea', 'MiscVal', 'MoSold', 'OpenPorchSF', \n",
    "                 'OverallCond', 'OverallQual', 'PoolArea', 'ScreenPorch', \n",
    "                 'TotRmsAbvGrd', 'TotalBsmtSF', 'WoodDeckSF', 'YearBuilt', 'YearRemodAdd', 'YrSold']\n",
    "\n",
    "#   'GarageCars', 'SalePrice', 'BsmtFullBath', 'BsmtHalfBath', \n",
    "\n",
    "from sklearn.preprocessing import StandardScaler"
   ]
  },
  {
   "cell_type": "markdown",
   "metadata": {},
   "source": [
    "# Model #"
   ]
  },
  {
   "cell_type": "code",
   "execution_count": 203,
   "metadata": {
    "collapsed": false
   },
   "outputs": [
    {
     "name": "stdout",
     "output_type": "stream",
     "text": [
      "data_train: (1460, 81)\n",
      "data_test: (1459, 80)\n",
      "train_ids: (1458L,)\n",
      "test_ids: (1459L,)\n",
      "all_data: (2917, 298)\n",
      "all_data: (2917, 298)\n",
      "features_train: (1458, 298)\n",
      "features_test: (1459, 298)\n",
      "features_train: (1458, 297)\n",
      "features_test: (1459, 297)\n",
      "target_train: (1458L,)\n",
      "Index([], dtype='object')\n",
      "Index([], dtype='object')\n",
      "\n",
      "DROP FEATURES  is OFF\n",
      "ONE HOT ENCODE is ON\n",
      "UNSKEW DATA    is OFF\n",
      "SCALING        is OFF\n"
     ]
    }
   ],
   "source": [
    "stopwatch.start()\n",
    "data_train, data_test = um.load_data()\n",
    "\n",
    "print_shape( data_train, 'data_train')\n",
    "print_shape( data_test, 'data_test')\n",
    "\n",
    "# get outliers Id, will be removed later\n",
    "data_train = do.remove_this_Ids(data_train, [524, 1299])\n",
    "\n",
    "# target variable, preserve and remove from data\n",
    "target_train = data_train[['SalePrice','Id']]\n",
    "data_train = data_train.drop(['SalePrice'], axis = 1)\n",
    "\n",
    "# concatenate test and train data\n",
    "train_ids = data_train['Id']\n",
    "test_ids = data_test['Id']\n",
    "\n",
    "print_shape( train_ids, 'train_ids')\n",
    "print_shape( test_ids, 'test_ids')\n",
    "\n",
    "all_data = pd.concat([data_train, data_test])\n",
    "all_ids = all_data['Id']\n",
    "\n",
    "all_data = do_handle_missing_data(all_data)\n",
    "all_data = do.add_TotalSF(all_data)\n",
    "\n",
    "dropcolumns = ('BsmtFinSF2','BsmtHalfBath','MiscVal','LowQualFinSF', 'YrSold', 'OverallCond', 'MSSubClass', 'EnclosedPorch',\n",
    " 'KitchenAbvGr',   'BsmtFullBath', 'BsmtUnfSF', 'BedroomAbvGr', 'ScreenPorch',  'MoSold', '3SsnPorch')\n",
    "\n",
    "# LABEL ENCODER\n",
    "all_data = do.encode_categorical(all_data, categoricaldata)\n",
    "\n",
    "# DROP SOME DATA\n",
    "drop_columns = False\n",
    "do_dummies = True\n",
    "if drop_columns:\n",
    "    all_data = all_data.drop(list(dropcolumns), axis = 1)\n",
    "    to_dummies = set(categoricaldata) - set(dropcolumns)\n",
    "    if do_dummies:\n",
    "        all_data = pd.get_dummies(all_data, columns=list(to_dummies))\n",
    "else:\n",
    "    if do_dummies:\n",
    "        all_data = pd.get_dummies(all_data, columns=list(categoricaldata))\n",
    "\n",
    "keep_cols = all_data.select_dtypes(include = ['number']).columns\n",
    "all_data = all_data[keep_cols]\n",
    "\n",
    "all_data_untransformed = all_data.copy()\n",
    "target_untransformed = target_train.copy()\n",
    "\n",
    "# UNSKEW\n",
    "unskew_data = False\n",
    "if unskew_data:\n",
    "    skewed_data = check_skewed(all_data, 0.75)\n",
    "    all_data = unskew_boxcox1p(all_data, skewed_data, 0.25)\n",
    "    target_train = boxcox1p(target_train, 0.25)\n",
    "\n",
    "print_shape( all_data, 'all_data')\n",
    "    \n",
    "# STANDARDIZATION\n",
    "do_scaling = False\n",
    "if do_scaling:\n",
    "    # scale features\n",
    "    scaler = StandardScaler()\n",
    "    scaler.fit(all_data[scalerdata])\n",
    "    all_data[scalerdata] = scaler.transform(all_data[scalerdata])\n",
    "    # scale target variable\n",
    "    if True:\n",
    "        scaler2 = StandardScaler()\n",
    "        X = target_train['SalePrice'].values.reshape(-1,1)\n",
    "        scaler2.fit(X)\n",
    "        target_train_scaled = scaler2.transform(X)\n",
    "        target_train['SalePrice'] = target_train_scaled\n",
    "        # check with inverse\n",
    "        inv_X = scaler2.inverse_transform(target_train_scaled)\n",
    "        #print(np.isclose(inv_X.astype(np.float),X.astype(np.float)))\n",
    "    \n",
    "print_shape( all_data, 'all_data')\n",
    "\n",
    "all_data['Id'] = all_ids\n",
    "\n",
    "features_train = all_data[all_data['Id'].isin(train_ids)]\n",
    "features_test = all_data[all_data['Id'].isin(test_ids)]\n",
    "print_shape( features_train, 'features_train')\n",
    "print_shape( features_test, 'features_test')\n",
    "\n",
    "#features_train = features_train.drop(features_train['Id'].isin(outliers_ids))\n",
    "#target_train = target_train.drop(target_train['Id'].isin(outliers_ids))\n",
    "\n",
    "features_train = features_train.drop(['Id'], axis = 1)\n",
    "features_test = features_test.drop(['Id'], axis = 1)\n",
    "target_train = target_train.drop(['Id'], axis = 1)\n",
    "target_train = target_train['SalePrice'].values\n",
    "\n",
    "print_shape( features_train, 'features_train')\n",
    "print_shape( features_test, 'features_test')\n",
    "print_shape( target_train, 'target_train')\n",
    "\n",
    "print(features_train.columns[features_train.isnull().any()])\n",
    "print(features_test.columns[features_test.isnull().any()])\n",
    "\n",
    "features = features_train\n",
    "target = target_train\n",
    "\n",
    "target_normal = target_untransformed['SalePrice'].values\n",
    "\n",
    "print(\"\")\n",
    "\n",
    "print_model_param(drop_columns, do_dummies, unskew_data, do_scaling)"
   ]
  },
  {
   "cell_type": "code",
   "execution_count": 185,
   "metadata": {
    "collapsed": true
   },
   "outputs": [],
   "source": [
    "def inverse_transform_single(data_pred_raw_, do_scaling_, unskew_data_):\n",
    "    lm = 0.25\n",
    "    if do_scaling_:\n",
    "        data_pred_unscaled = scaler2.inverse_transform(data_pred_raw_)\n",
    "    else:\n",
    "        data_pred_unscaled = data_pred_raw_\n",
    "    if unskew_data_:\n",
    "        data_pred_normal_ = skew_inv_boxcox1p(data_pred_unscaled, lm)\n",
    "    else:\n",
    "        data_pred_normal_ = data_pred_unscaled\n",
    "    return data_pred_normal_\n",
    "\n",
    "\n",
    "def inverse_transform(xgb_pred_raw_, gbr_pred_raw_, rfr_pred_raw_ ):\n",
    "    global do_scaling\n",
    "    global unskew_data\n",
    "    lm = 0.25\n",
    "    if do_scaling:\n",
    "        xgb_pred_unscaled = scaler2.inverse_transform(xgb_pred_raw_)\n",
    "        gbr_pred_unscaled = scaler2.inverse_transform(gbr_pred_raw_)\n",
    "        rfr_pred_unscaled = scaler2.inverse_transform(rfr_pred_raw_)\n",
    "    else:\n",
    "        xgb_pred_unscaled = xgb_pred_raw_\n",
    "        gbr_pred_unscaled = gbr_pred_raw_\n",
    "        rfr_pred_unscaled = rfr_pred_raw_\n",
    "    if unskew_data:\n",
    "        xgb_pred_normal_ = skew_inv_boxcox1p(xgb_pred_unscaled, lm)\n",
    "        gbr_pred_normal_ = skew_inv_boxcox1p(gbr_pred_unscaled, lm)\n",
    "        rfr_pred_normal_ = skew_inv_boxcox1p(rfr_pred_unscaled, lm)\n",
    "    else:\n",
    "        xgb_pred_normal_ = xgb_pred_unscaled\n",
    "        gbr_pred_normal_ = gbr_pred_unscaled\n",
    "        rfr_pred_normal_ = rfr_pred_unscaled\n",
    "    return xgb_pred_normal_, gbr_pred_normal_, rfr_pred_normal_\n",
    "\n"
   ]
  },
  {
   "cell_type": "markdown",
   "metadata": {},
   "source": [
    "# Metrics #"
   ]
  },
  {
   "cell_type": "code",
   "execution_count": 186,
   "metadata": {
    "collapsed": true
   },
   "outputs": [],
   "source": [
    "import sklearn\n",
    "import numpy as np\n",
    "\n",
    "from sklearn.metrics import mean_squared_error\n",
    "from sklearn.metrics import r2_score\n",
    "\n",
    "def RMSE(y, y_pred):\n",
    "    return np.sqrt(np.sum(np.square(y_pred-y))/len(y))\n",
    "\n",
    "def RMSElog(y, y_pred):\n",
    "    y = np.log(y)\n",
    "    y_pred = np.log(y_pred)\n",
    "    return np.sqrt(np.sum(np.square(y_pred-y))/len(y))\n",
    "\n",
    "def calc_metrics(y, y_pred):\n",
    "    r2score = r2_score(y, y_pred)\n",
    "    rmse_log = RMSElog(y, y_pred)\n",
    "    rmse = RMSE(y, y_pred)\n",
    "    return rmse, rmse_log,  r2score\n",
    "\n",
    "def print_metrics (rmse, rmse_log,r2score):\n",
    "    print('RMSE               : {:.4f}'.format(rmse, prec=5))\n",
    "    print('RMSE of logarithms : {:.4f}'.format(rmse_log, prec=5))\n",
    "    print('R2 score           : {:.6f}'.format(r2score, prec = 5))\n",
    "    \n",
    "def show_metrics(y, y_pred):\n",
    "    rmse, rmse_log, r2score = calc_metrics(y, y_pred)\n",
    "    print_metrics(rmse, rmse_log, r2score )\n",
    "    return rmse, rmse_log, r2score\n",
    "       "
   ]
  },
  {
   "cell_type": "markdown",
   "metadata": {},
   "source": [
    "# Methods #"
   ]
  },
  {
   "cell_type": "code",
   "execution_count": 158,
   "metadata": {
    "collapsed": true
   },
   "outputs": [],
   "source": [
    "from xgboost import XGBRegressor\n",
    "xgb = XGBRegressor(colsample_bytree=0.2, learning_rate=0.05, max_depth=2, n_estimators=1700, random_state = 133)\n",
    "\n",
    "from sklearn.ensemble import GradientBoostingRegressor\n",
    "gbr = GradientBoostingRegressor(max_depth=2, n_estimators=1000, max_features = 'sqrt',  learning_rate = 0.05, random_state=1234)\n",
    "\n",
    "from sklearn.ensemble import RandomForestRegressor\n",
    "rfr = RandomForestRegressor(max_depth=20, n_estimators=375, max_features = 'sqrt', oob_score=True, random_state=1234)"
   ]
  },
  {
   "cell_type": "markdown",
   "metadata": {},
   "source": [
    "# Grid Search #"
   ]
  },
  {
   "cell_type": "code",
   "execution_count": 89,
   "metadata": {
    "collapsed": true
   },
   "outputs": [],
   "source": [
    "from sklearn.model_selection import GridSearchCV\n",
    "from sklearn.metrics import make_scorer\n",
    "from sklearn.metrics import r2_score\n",
    "\n",
    "class GridSearchObject:\n",
    "    def __init__(self, estimator, grid_params):\n",
    "        self.estimator = estimator\n",
    "        self.name = type(estimator).__name__\n",
    "        self.grid_params = grid_params\n",
    "\n",
    "class GridSearchBatch:\n",
    "    def __init__(self, features,target):\n",
    "        self.features = features\n",
    "        self.target = target\n",
    "        self.results_list = []\n",
    "        self.batch_list = []\n",
    "        self.stopwatch = Stopwatch()\n",
    "\n",
    "    def add(self, grid_search_object):\n",
    "        self.batch_list.append(grid_search_object)\n",
    "        \n",
    "    def run(self):\n",
    "        scorer = make_scorer(r2_score)\n",
    "        for gso in self.batch_list:\n",
    "            self.stopwatch.start()\n",
    "            grid_search = GridSearchCV(gso.estimator, gso.grid_params, scoring = scorer, cv=5, n_jobs =-1)\n",
    "            grid_search.fit(self.features, self.target)\n",
    "            duration = self.stopwatch.elapsed_time()\n",
    "            cv_results = grid_search.cv_results_\n",
    "            cv_results.update({'duration':duration})\n",
    "            cv_results.update({'name':gso.name})\n",
    "            cv_results.update({'grid_params':gso.grid_params})\n",
    "            self.results_list.append(cv_results)\n",
    "            self.stopwatch.print_elapsed_time()\n",
    "            print(gso.name)\n",
    "            print(grid_search.best_estimator_)\n",
    "            print(grid_search.best_score_ )\n",
    "        return self.results_list\n",
    "            "
   ]
  },
  {
   "cell_type": "code",
   "execution_count": 67,
   "metadata": {
    "collapsed": false
   },
   "outputs": [],
   "source": [
    "batch = GridSearchBatch(features, target)\n",
    "\n",
    "# param_grid - dict or list of dictionaries\n",
    "param_grid = {'max_depth': [ 20, 25, 30, 32  ], 'n_estimators':[375, 400, 500, 600, 700 ]}\n",
    "#param_grid = {'max_depth': [ 15, 20, 25, 30, 32  ], 'n_estimators':[275, 300, 325, 350, 375, 400 ]}\n",
    "#param_grid = {'max_depth': [ 30, 32, 36, ], 'n_estimators':[275, 300, 325, ]}\n",
    "#cv_scores = cross_val_score(rf_test, features, target, cv = 5, n_jobs = -1)\n",
    "estimator = RandomForestRegressor(max_features = 100, oob_score=True, random_state=458)\n",
    "#batch.add( GridSearchObject(estimator, param_grid))\n",
    "\n",
    "param_grid = {'max_depth': [ 2, 3, 5 ], 'n_estimators':[ 800, 900, 1000, 1100, 1200  ]}\n",
    "estimator = GradientBoostingRegressor( max_features = 100,  random_state=1234)\n",
    "#batch.add( GridSearchObject(estimator, param_grid))\n",
    "\n",
    "param_grid = {'max_depth': [ 2, 3, 4], 'n_estimators':[ 1600, 1700, 1800, 2000 ]}\n",
    "estimator = XGBRegressor(colsample_bytree=0.2, learning_rate=0.05, random_state = 1337 )\n",
    "batch.add( GridSearchObject(estimator, param_grid))\n",
    "\n",
    "# takes long !!!\n",
    "# results = batch.run()"
   ]
  },
  {
   "cell_type": "markdown",
   "metadata": {},
   "source": [
    "Elapsed time: 00:06:47\n",
    "\n",
    "RandomForestRegressor\n",
    "RandomForestRegressor(bootstrap=True, criterion='mse', max_depth=25,\n",
    "           max_features=100, max_leaf_nodes=None, min_impurity_split=1e-07,\n",
    "           min_samples_leaf=1, min_samples_split=2,\n",
    "           min_weight_fraction_leaf=0.0, n_estimators=500, n_jobs=1,\n",
    "           oob_score=True, random_state=458, verbose=0, warm_start=False)\n",
    "0.898382838789\n",
    "\n",
    "Elapsed time: 00:06:54\n",
    "\n",
    "GradientBoostingRegressor\n",
    "GradientBoostingRegressor(alpha=0.9, criterion='friedman_mse', init=None,\n",
    "             learning_rate=0.1, loss='ls', max_depth=2, max_features=100,\n",
    "             max_leaf_nodes=None, min_impurity_split=1e-07,\n",
    "             min_samples_leaf=1, min_samples_split=2,\n",
    "             min_weight_fraction_leaf=0.0, n_estimators=1000,\n",
    "             presort='auto', random_state=1234, subsample=1.0, verbose=0,\n",
    "             warm_start=False)\n",
    "0.92324072887\n",
    "\n",
    "Elapsed time: 00:02:31\n",
    "\n",
    "XGBRegressor\n",
    "XGBRegressor(base_score=0.5, booster='gbtree', colsample_bylevel=1,\n",
    "       colsample_bytree=0.2, gamma=0, learning_rate=0.05, max_delta_step=0,\n",
    "       max_depth=2, min_child_weight=1, missing=None, n_estimators=1800,\n",
    "       n_jobs=1, nthread=None, objective='reg:linear', random_state=1337,\n",
    "       reg_alpha=0, reg_lambda=1, scale_pos_weight=1, seed=None,\n",
    "       silent=True, subsample=1)\n",
    "0.926241453432\n",
    "\n"
   ]
  },
  {
   "cell_type": "markdown",
   "metadata": {},
   "source": [
    "# Best Regressors #"
   ]
  },
  {
   "cell_type": "code",
   "execution_count": 13,
   "metadata": {
    "collapsed": true
   },
   "outputs": [],
   "source": [
    "from xgboost import XGBRegressor\n",
    "xgb = XGBRegressor(base_score=0.5, booster='gbtree', colsample_bylevel=1,\n",
    "       colsample_bytree=0.2, gamma=0, learning_rate=0.05, max_delta_step=0,\n",
    "       max_depth=2, min_child_weight=1, missing=None, n_estimators=1800,\n",
    "       n_jobs=1, nthread=None, objective='reg:linear', random_state=1337,\n",
    "       reg_alpha=0, reg_lambda=1, scale_pos_weight=1, seed=None,\n",
    "       silent=True, subsample=1)\n",
    "\n",
    "from sklearn.ensemble import GradientBoostingRegressor\n",
    "gbr = GradientBoostingRegressor(alpha=0.9, criterion='friedman_mse', init=None,\n",
    "             learning_rate=0.1, loss='ls', max_depth=2, max_features=100,\n",
    "             max_leaf_nodes=None, min_impurity_split=1e-07,\n",
    "             min_samples_leaf=1, min_samples_split=2,\n",
    "             min_weight_fraction_leaf=0.0, n_estimators=1000,\n",
    "             presort='auto', random_state=1234, subsample=1.0, verbose=0,\n",
    "             warm_start=False)\n",
    "\n",
    "from sklearn.ensemble import RandomForestRegressor\n",
    "rfr = RandomForestRegressor(bootstrap=True, criterion='mse', max_depth=25,\n",
    "           max_features=100, max_leaf_nodes=None, min_impurity_split=1e-07,\n",
    "           min_samples_leaf=1, min_samples_split=2,\n",
    "           min_weight_fraction_leaf=0.0, n_estimators=500, n_jobs=1,\n",
    "           oob_score=True, random_state=458, verbose=0, warm_start=False)"
   ]
  },
  {
   "cell_type": "code",
   "execution_count": 191,
   "metadata": {
    "collapsed": false
   },
   "outputs": [],
   "source": [
    "from sklearn.model_selection import cross_val_score\n",
    "from sklearn.model_selection import cross_val_predict\n",
    "\n",
    "def cross_validation( regressor_, X_trans, y_trans ):\n",
    "    global do_scaling\n",
    "    global unskew_data\n",
    "    global target_normal\n",
    "    stopwatch.start()\n",
    "    print(type(regressor_).__name__)\n",
    "    y_pred_raw = cross_val_predict( regressor_, X_trans, y_trans, cv = 5, n_jobs = -1)\n",
    "    y_pred = inverse_transform_single(y_pred_raw, do_scaling, unskew_data )\n",
    "    #y = inverse_transform_single(y_trans, do_scaling, unskew_data )\n",
    "    y = target_normal\n",
    "    rmse, rmse_log, r2score = show_metrics( y, y_pred )\n",
    "    stopwatch.print_elapsed_time()\n",
    "    return rmse, rmse_log, r2score\n",
    "    \n",
    "def cross_validation_prediction( regressor_, X_trans, y_trans ):\n",
    "    stopwatch.start()\n",
    "    print(type(regressor_).__name__)\n",
    "    y_pred = cross_val_predict(regressor_, X_trans, y_trans, cv = 5, n_jobs = -1)\n",
    "    stopwatch.print_elapsed_time()\n",
    "    return y_pred\n"
   ]
  },
  {
   "cell_type": "code",
   "execution_count": 204,
   "metadata": {
    "collapsed": false,
    "scrolled": false
   },
   "outputs": [
    {
     "name": "stdout",
     "output_type": "stream",
     "text": [
      "DROP FEATURES  is OFF\n",
      "ONE HOT ENCODE is ON\n",
      "UNSKEW DATA    is OFF\n",
      "SCALING        is OFF\n",
      "\n",
      "RandomForestRegressor\n",
      "RMSE               : 27544.1890\n",
      "RMSE of logarithms : 0.1414\n",
      "R2 score           : 0.879863\n",
      "\n",
      "Elapsed time: 00:00:22\n",
      "\n",
      "GradientBoostingRegressor\n",
      "RMSE               : 22365.5846\n",
      "RMSE of logarithms : 0.1213\n",
      "R2 score           : 0.920790\n",
      "\n",
      "Elapsed time: 00:00:29\n",
      "\n",
      "XGBRegressor\n",
      "RMSE               : 22140.0888\n",
      "RMSE of logarithms : 0.1210\n",
      "R2 score           : 0.922379\n",
      "\n",
      "Elapsed time: 00:00:25\n",
      "\n"
     ]
    }
   ],
   "source": [
    "print_model_param(drop_columns, do_dummies, unskew_data, do_scaling)\n",
    "print(\"\")\n",
    "rfr_rmse, rfr_rmse_log, rfr_r2 = cross_validation(rfr, features, target)\n",
    "gbr_rmse, gbr_rmse_log, gbr_r2 = cross_validation(gbr, features, target)\n",
    "xgb_rmse, xgb_rmse_log, xgb_r2 = cross_validation(xgb, features, target)"
   ]
  },
  {
   "cell_type": "markdown",
   "metadata": {},
   "source": [
    "XGBRegressor\n",
    "RMSE               : 21546.7702\n",
    "RMSE of logarithms : 0.1181\n",
    "R2 score           : 0.926484\n",
    "\n",
    "Elapsed time: 00:00:16\n",
    "\n",
    "GradientBoostingRegressor\n",
    "RMSE               : 22004.9835\n",
    "RMSE of logarithms : 0.1224\n",
    "R2 score           : 0.923324\n",
    "\n",
    "Elapsed time: 00:00:12\n",
    "\n",
    "RandomForestRegressor\n",
    "RMSE               : 25372.8165\n",
    "RMSE of logarithms : 0.1352\n",
    "R2 score           : 0.898058\n",
    "\n",
    "Elapsed time: 00:00:26"
   ]
  },
  {
   "cell_type": "code",
   "execution_count": 205,
   "metadata": {
    "collapsed": false,
    "scrolled": false
   },
   "outputs": [],
   "source": [
    "sum_rmse = xgb_rmse + gbr_rmse + rfr_rmse\n",
    "sum_rmse_log = xgb_rmse_log + gbr_rmse_log + rfr_rmse_log\n",
    "sum_r2 = xgb_r2 + gbr_r2 + rfr_r2\n",
    "\n",
    "xgb_w = xgb_r2/sum_r2\n",
    "gbr_w = gbr_r2/sum_r2\n",
    "rfr_w = rfr_r2/sum_r2"
   ]
  },
  {
   "cell_type": "code",
   "execution_count": 206,
   "metadata": {
    "collapsed": false
   },
   "outputs": [
    {
     "name": "stdout",
     "output_type": "stream",
     "text": [
      "XGBRegressor\n",
      "\n",
      "Elapsed time: 00:00:30\n",
      "\n",
      "GradientBoostingRegressor\n",
      "\n",
      "Elapsed time: 00:00:28\n",
      "\n",
      "RandomForestRegressor\n",
      "\n",
      "Elapsed time: 00:00:15\n",
      "\n",
      "Finished\n"
     ]
    }
   ],
   "source": [
    "xgb_pred_raw = cross_validation_prediction(xgb, features, target)\n",
    "gbr_pred_raw = cross_validation_prediction(gbr, features, target)\n",
    "rfr_pred_raw = cross_validation_prediction(rfr, features, target)\n",
    "print('Finished')"
   ]
  },
  {
   "cell_type": "code",
   "execution_count": 207,
   "metadata": {
    "collapsed": false
   },
   "outputs": [
    {
     "name": "stdout",
     "output_type": "stream",
     "text": [
      "XGBoost\n",
      "RMSE               : 22140.0888\n",
      "RMSE of logarithms : 0.1210\n",
      "R2 score           : 0.922379\n",
      "\n",
      "\n",
      "Gradient Boost\n",
      "RMSE               : 22365.5846\n",
      "RMSE of logarithms : 0.1213\n",
      "R2 score           : 0.920790\n",
      "\n",
      "\n",
      "Random Forest\n",
      "RMSE               : 27544.1890\n",
      "RMSE of logarithms : 0.1414\n",
      "R2 score           : 0.879863\n",
      "\n",
      "\n"
     ]
    }
   ],
   "source": [
    "xgb_pred_normal, gbr_pred_normal, rfr_pred_normal = inverse_transform(xgb_pred_raw, gbr_pred_raw, rfr_pred_raw )  \n",
    "print('XGBoost')    \n",
    "show_metrics(target_normal, xgb_pred_normal )\n",
    "print(\"\\n\")\n",
    "print('Gradient Boost')\n",
    "show_metrics(target_normal, gbr_pred_normal )\n",
    "print(\"\\n\")\n",
    "print('Random Forest')\n",
    "show_metrics(target_normal, rfr_pred_normal )\n",
    "print(\"\\n\")\n",
    "\n",
    "predictions_normal = xgb_w* xgb_pred_normal + gbr_w * gbr_pred_normal + rfr_w * rfr_pred_normal"
   ]
  },
  {
   "cell_type": "code",
   "execution_count": 194,
   "metadata": {
    "collapsed": false
   },
   "outputs": [
    {
     "data": {
      "image/png": "[encoded data removed]",
      "text/plain": [
       "<matplotlib.figure.Figure at 0xe2caef0>"
      ]
     },
     "metadata": {},
     "output_type": "display_data"
    }
   ],
   "source": [
    "plt.figure(figsize=(20,5))\n",
    "ax1 = plt.subplot(1,3,1)\n",
    "ax1.scatter( rfr_pred_normal, target_train)\n",
    "ax1.plot([0,max(target_train)],[ 0,max(target_train)], '-', color='r', )\n",
    "ax1.set_xlabel('Measured')\n",
    "ax1.set_ylabel('Random Forest')\n",
    "ax2 = plt.subplot(1,3,2)\n",
    "ax2.scatter( gbr_pred_normal, target_train)\n",
    "ax2.plot([0,max(target_train)],[ 0,max(target_train)], '-', color='r', )\n",
    "ax2.set_xlabel('Measured')\n",
    "ax2.set_ylabel('Gradient Boost')\n",
    "ax2 = plt.subplot(1,3,3)\n",
    "ax2.scatter( xgb_pred_normal, target_train)\n",
    "ax2.plot([0,max(target_train)],[ 0,max(target_train)], '-', color='r', )\n",
    "ax2.set_xlabel('Measured')\n",
    "ax2.set_ylabel('XGBoost')\n",
    "plt.show()"
   ]
  },
  {
   "cell_type": "code",
   "execution_count": 195,
   "metadata": {
    "collapsed": false
   },
   "outputs": [
    {
     "data": {
      "image/png": "[encoded data removed]",
      "text/plain": [
       "<matplotlib.figure.Figure at 0xe2cad68>"
      ]
     },
     "metadata": {},
     "output_type": "display_data"
    }
   ],
   "source": [
    "predictions_normal = xgb_w* xgb_pred_normal + gbr_w * gbr_pred_normal + rfr_w * rfr_pred_normal\n",
    "\n",
    "plt.figure(figsize=(20,5))\n",
    "ax = plt.subplot()\n",
    "ax.scatter( predictions_normal, target_normal)\n",
    "ax.plot([0,max(target_normal)],[ 0,max(target_normal)], '-', color='r', )\n",
    "ax.set_xlabel('Measured')\n",
    "ax.set_ylabel('Stacked predictions')\n",
    "plt.show()"
   ]
  },
  {
   "cell_type": "code",
   "execution_count": 94,
   "metadata": {
    "collapsed": false
   },
   "outputs": [
    {
     "name": "stdout",
     "output_type": "stream",
     "text": [
      "Stacked regressions\n",
      "RMSE               : 4083132.5991\n",
      "RMSE of logarithms : 20.6483\n",
      "R2 score           : 0.920039\n"
     ]
    },
    {
     "data": {
      "text/plain": [
       "(4083132.5990737202, 20.648320770129931, 0.92003938607742541)"
      ]
     },
     "execution_count": 94,
     "metadata": {},
     "output_type": "execute_result"
    }
   ],
   "source": [
    "print('Stacked regressions')\n",
    "show_metrics(target_normal, predictions_normal )"
   ]
  },
  {
   "cell_type": "code",
   "execution_count": 95,
   "metadata": {
    "collapsed": false,
    "scrolled": true
   },
   "outputs": [
    {
     "name": "stdout",
     "output_type": "stream",
     "text": [
      "[208500 181500 223500 ..., 266500 142125 147500]\n",
      "(1458L,)\n"
     ]
    }
   ],
   "source": [
    "print (target_normal[:,0])\n",
    "print (predictions_normal.shape)\n",
    "stacked_results = pd.DataFrame({'target': target_normal[:,0],'predicted':predictions_normal}, columns = ['target', 'predicted'])\n",
    "stacked_results = stacked_results.sort_values('target', axis=0)\n",
    "stacked_results.reset_index(drop=True, inplace=True)"
   ]
  },
  {
   "cell_type": "code",
   "execution_count": 96,
   "metadata": {
    "collapsed": false,
    "scrolled": false
   },
   "outputs": [
    {
     "data": {
      "image/png": "[encoded data removed]",
      "text/plain": [
       "<matplotlib.figure.Figure at 0xe2c0198>"
      ]
     },
     "metadata": {},
     "output_type": "display_data"
    }
   ],
   "source": [
    "from matplotlib.legend_handler import HandlerLine2D\n",
    "plt.figure(figsize=(20,10))\n",
    "ax = plt.subplot()\n",
    "ax.set_alpha(0.5)\n",
    "predicted_l = ax.scatter( stacked_results.index, stacked_results['predicted'], label = \"predicted\", color = 'r')\n",
    "target_l = ax.scatter( stacked_results.index, stacked_results['target'],  label = \"target\", )\n",
    "plt.legend(handles=[predicted_l], loc=2)\n",
    "plt.legend(handles=[target_l], loc=2)\n",
    "ax.set_xlabel('Index after sort')\n",
    "ax.set_ylabel('Price')\n",
    "plt.show()"
   ]
  },
  {
   "cell_type": "markdown",
   "metadata": {},
   "source": [
    "# Output #"
   ]
  },
  {
   "cell_type": "code",
   "execution_count": null,
   "metadata": {
    "collapsed": false
   },
   "outputs": [],
   "source": [
    "# use all data for learning\n",
    "\n",
    "stopwatch.start()\n",
    "\n",
    "rfr.fit(features_train, target_train)\n",
    "predictions_rfr = rfr.predict(features_test)\n",
    "stopwatch.print_elapsed_time()\n",
    "\n",
    "gbr.fit(features_train, target_train)\n",
    "predictions_gbr = gbr.predict(features_test)\n",
    "stopwatch.print_elapsed_time()\n",
    "\n",
    "xgb.fit(features_train, target_train)\n",
    "predictions_xgb = xgb.predict(features_test)\n",
    "stopwatch.print_elapsed_time()\n",
    "\n",
    "#  stacked \n",
    "predictions = xgb_w* predictions_xgb + gbr_w * predictions_gbr + rfr_w * predictions_rfr\n",
    "#predictions = predictions_xgb\n",
    "\n",
    "out_preds = pd.DataFrame()\n",
    "out_preds['Id'] = test_ids\n",
    "out_preds['SalePrice'] = predictions\n",
    "out_preds.to_csv('output7.csv', index=False)\n",
    "\n",
    "\n",
    "stopwatch.print_elapsed_time()\n"
   ]
  },
  {
   "cell_type": "markdown",
   "metadata": {
    "collapsed": true
   },
   "source": [
    "# Robustness #"
   ]
  },
  {
   "cell_type": "code",
   "execution_count": 209,
   "metadata": {
    "collapsed": false
   },
   "outputs": [
    {
     "name": "stderr",
     "output_type": "stream",
     "text": [
      "C:\\Users\\jiri_\\Anaconda2\\lib\\site-packages\\sklearn\\cross_validation.py:44: DeprecationWarning: This module was deprecated in version 0.18 in favor of the model_selection module into which all the refactored classes and functions are moved. Also note that the interface of the new CV iterators are different from that of this module. This module will be removed in 0.20.\n",
      "  \"This module will be removed in 0.20.\", DeprecationWarning)\n",
      "C:\\Users\\jiri_\\Anaconda2\\lib\\site-packages\\sklearn\\learning_curve.py:23: DeprecationWarning: This module was deprecated in version 0.18 in favor of the model_selection module into which all the functions are moved. This module will be removed in 0.20\n",
      "  DeprecationWarning)\n"
     ]
    },
    {
     "name": "stdout",
     "output_type": "stream",
     "text": [
      "1458\n",
      "1458\n",
      "TEST HOUSE index: [536]\n",
      "Predicted price of the TEST HOUSE: 314779.247356\n",
      "Predicted price of the TEST HOUSE: 313007.592213\n",
      "Predicted price of the TEST HOUSE: 308357.814834\n",
      "Predicted price of the TEST HOUSE: 315636.477364\n",
      "Predicted price of the TEST HOUSE: 303598.57408\n",
      "Predicted price of the TEST HOUSE: 304751.548091\n",
      "Predicted price of the TEST HOUSE: 312635.720182\n",
      "Predicted price of the TEST HOUSE: 308572.626153\n",
      "Predicted price of the TEST HOUSE: 309430.075502\n",
      "Predicted price of the TEST HOUSE: 317060.954611\n",
      "count        10.000000\n",
      "mean     310783.063039\n",
      "std        4569.371466\n",
      "min      303598.574080\n",
      "25%      308411.517664\n",
      "50%      311032.897842\n",
      "75%      314336.333570\n",
      "max      317060.954611\n",
      "dtype: float64\n",
      "\n",
      "Elapsed time: 00:01:04\n",
      "\n"
     ]
    }
   ],
   "source": [
    "import visuals as vs\n",
    "import random\n",
    "\n",
    "stopwatch.start()\n",
    "\n",
    "print (features.shape[0])\n",
    "print (target.shape[0])\n",
    "data_size = features.shape[0]\n",
    "\n",
    "import numpy as np\n",
    "\n",
    "from sklearn.model_selection import train_test_split\n",
    "\n",
    "random.seed(1654651)\n",
    "test_set_size = features_test.shape[0]\n",
    "test_house_idx = int(random.random()*test_set_size)\n",
    "test_house = features_test.iloc[[test_house_idx]]\n",
    "\n",
    "print(\"TEST HOUSE index: [{}]\".format(test_house_idx))\n",
    "\n",
    "# split \n",
    "all_predictions = list()\n",
    "for i in range(0,10):\n",
    "    X_train, X_test, y_train, y_test = train_test_split( features, target, test_size=0.2, random_state=12654812+i)\n",
    "    xgb.fit(X_train, y_train)\n",
    "    gbr.fit(X_train, y_train)\n",
    "    rfr.fit(X_train, y_train)\n",
    "    xgbpredraw = xgb.predict(test_house)\n",
    "    gbrpredraw = gbr.predict(test_house)\n",
    "    rfrpredraw = rfr.predict(test_house)   \n",
    "    xgbprednormal, gbrprednormal, rfrprednormal = inverse_transform(xgbpredraw, gbrpredraw, rfrpredraw ) \n",
    "    predictions_normal = xgb_w* xgbprednormal + gbr_w * gbrprednormal + rfr_w * rfrprednormal\n",
    "    all_predictions.append(predictions_normal[0])\n",
    "    print(\"Predicted price of the TEST HOUSE: {}\".format(predictions_normal[0]))\n",
    "\n",
    "print(pd.Series(all_predictions).describe())\n",
    "\n",
    "stopwatch.print_elapsed_time()\n"
   ]
  },
  {
   "cell_type": "code",
   "execution_count": 208,
   "metadata": {
    "collapsed": false
   },
   "outputs": [
    {
     "ename": "NameError",
     "evalue": "name 'all_predictions' is not defined",
     "output_type": "error",
     "traceback": [
      "\u001b[0;31m---------------------------------------------------------------------------\u001b[0m",
      "\u001b[0;31mNameError\u001b[0m                                 Traceback (most recent call last)",
      "\u001b[0;32m<ipython-input-208-d69fe8986f2c>\u001b[0m in \u001b[0;36m<module>\u001b[0;34m()\u001b[0m\n\u001b[1;32m      1\u001b[0m \u001b[1;32mimport\u001b[0m \u001b[0mseaborn\u001b[0m \u001b[1;32mas\u001b[0m \u001b[0msns\u001b[0m\u001b[1;33m\u001b[0m\u001b[0m\n\u001b[1;32m      2\u001b[0m \u001b[1;33m\u001b[0m\u001b[0m\n\u001b[0;32m----> 3\u001b[0;31m \u001b[0msns\u001b[0m\u001b[1;33m.\u001b[0m\u001b[0mdistplot\u001b[0m\u001b[1;33m(\u001b[0m\u001b[0mall_predictions\u001b[0m\u001b[1;33m)\u001b[0m\u001b[1;33m\u001b[0m\u001b[0m\n\u001b[0m",
      "\u001b[0;31mNameError\u001b[0m: name 'all_predictions' is not defined"
     ]
    }
   ],
   "source": [
    "import seaborn as sns\n",
    "\n",
    "sns.distplot(all_predictions)"
   ]
  },
  {
   "cell_type": "code",
   "execution_count": 119,
   "metadata": {
    "collapsed": false
   },
   "outputs": [
    {
     "name": "stdout",
     "output_type": "stream",
     "text": [
      "The scikit-learn version is 0.18.1.\n"
     ]
    }
   ],
   "source": [
    "import sklearn\n",
    "\n",
    "print('The scikit-learn version is {}.'.format(sklearn.__version__))"
   ]
  },
  {
   "cell_type": "code",
   "execution_count": null,
   "metadata": {
    "collapsed": true
   },
   "outputs": [],
   "source": []
  }
 ],
 "metadata": {
  "kernelspec": {
   "display_name": "Python 2",
   "language": "python",
   "name": "python2"
  },
  "language_info": {
   "codemirror_mode": {
    "name": "ipython",
    "version": 2
   },
   "file_extension": ".py",
   "mimetype": "text/x-python",
   "name": "python",
   "nbconvert_exporter": "python",
   "pygments_lexer": "ipython2",
   "version": "2.7.13"
  }
 },
 "nbformat": 4,
 "nbformat_minor": 2
}
