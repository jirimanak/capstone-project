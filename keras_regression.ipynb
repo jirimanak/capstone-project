{
 "cells": [
  {
   "cell_type": "markdown",
   "metadata": {},
   "source": [
    "# Model Tuning #"
   ]
  },
  {
   "cell_type": "code",
   "execution_count": 1,
   "metadata": {
    "collapsed": true
   },
   "outputs": [],
   "source": [
    "# Import libraries necessary for this project\n",
    "import numpy as np\n",
    "import pandas as pd\n",
    "import matplotlib.pyplot as plt\n",
    "\n",
    "import usefull_methods as um\n",
    "import do_actions as do\n",
    "\n",
    "from stopwatch import Stopwatch\n",
    "stopwatch = Stopwatch()\n",
    "\n",
    "# Pretty display for notebooks\n",
    "%matplotlib inline\n"
   ]
  },
  {
   "cell_type": "code",
   "execution_count": 2,
   "metadata": {
    "collapsed": true
   },
   "outputs": [],
   "source": [
    "def print_shape(data, name):\n",
    "    print(\"{0}: {1}\".format(name, data.shape))\n",
    "    \n",
    "def print_versions(data1, data2, idx ):\n",
    "    print(\"TEST[{2}]  {0} == {1}\".format(data1[idx], data2[idx], idx))\n",
    "    \n",
    "def print_model_param(drop_columns_, do_dummies_, unskew_data_, do_scaling_):\n",
    "    if drop_columns_:\n",
    "        print(\"DROP FEATURES  is ON\")\n",
    "    else:\n",
    "        print(\"DROP FEATURES  is OFF\")\n",
    "\n",
    "    if do_dummies_:\n",
    "        print(\"ONE HOT ENCODE is ON\")\n",
    "    else:\n",
    "        print(\"ONE HOT ENCODE is OFF\")\n",
    "\n",
    "    if unskew_data_:\n",
    "        print(\"UNSKEW DATA    is ON\")\n",
    "    else:\n",
    "        print(\"UNSKEW DATA    is OFF\")\n",
    "\n",
    "    if do_scaling_:\n",
    "        print(\"SCALING        is ON\")\n",
    "    else:\n",
    "        print(\"SCALING        is OFF\")\n",
    "       "
   ]
  },
  {
   "cell_type": "markdown",
   "metadata": {},
   "source": [
    "# Handle Missing Data#"
   ]
  },
  {
   "cell_type": "code",
   "execution_count": 3,
   "metadata": {
    "collapsed": true
   },
   "outputs": [],
   "source": [
    "def show_missing(data):\n",
    "    # df.isnull() Return a boolean same-sized object indicating if the values are null.\n",
    "    # df.any() Return whether any element is True over requested axis\n",
    "    #\n",
    "    missing = data.columns[data.isnull().any()].tolist()\n",
    "    return missing\n",
    "\n",
    "# Looking at categorical values\n",
    "def cat_exploration(data, column):\n",
    "    return data[column].value_counts()\n",
    "\n",
    "# deleting missing data\n",
    "def handle_missing(data, column, value):\n",
    "    data.loc[data[column].isnull(),column] = value\n",
    "    return data\n",
    "\n",
    "def count_missing(data):\n",
    "    data[show_missing(data)].isnull().sum()"
   ]
  },
  {
   "cell_type": "code",
   "execution_count": 4,
   "metadata": {
    "collapsed": true
   },
   "outputs": [],
   "source": [
    "def do_handle_missing_data(data):\n",
    "    data = handle_missing(data, 'PoolQC', 'None')\n",
    "    data = handle_missing(data, 'MiscFeature', 'None' )\n",
    "    data = handle_missing(data, 'Alley', 'None' )\n",
    "    data = handle_missing(data, 'Fence', 'None' )\n",
    "    data = handle_missing(data, 'FireplaceQu', 'None' )\n",
    "    data = handle_missing(data, 'LotFrontage', 0.0 )\n",
    "    \n",
    "    data = handle_missing(data, 'GarageType', 'None' )\n",
    "    data = handle_missing(data, 'GarageYrBlt', 0.0 )\n",
    "    data = handle_missing(data, 'GarageFinish', 'None' )\n",
    "    data = handle_missing(data, 'GarageQual', 'None' )\n",
    "    data = handle_missing(data, 'GarageCond', 'None' )\n",
    "    data = handle_missing(data, 'GarageArea', 0.0 )\n",
    "    data = handle_missing(data, 'GarageCars', 'None' )\n",
    " \n",
    "    data = handle_missing(data, 'BsmtQual', 'None' )\n",
    "    data = handle_missing(data, 'BsmtCond', 'None' )\n",
    "    data = handle_missing(data, 'BsmtExposure', 'None' )\n",
    "    data = handle_missing(data, 'BsmtFinType1', 'None' )\n",
    "    data = handle_missing(data, 'BsmtFinType2', 'None' )\n",
    "    \n",
    "    data = handle_missing(data, 'BsmtFinSF1', 0.0)\n",
    "    data = handle_missing(data, 'BsmtFinSF2', 0.0 )\n",
    "    data = handle_missing(data, 'BsmtFullBath', 'None' )\n",
    "    data = handle_missing(data, 'BsmtHalfBath', 'None' )\n",
    "    data = handle_missing(data, 'BsmtUnfSF', 0.0 )\n",
    "    \n",
    "    data = handle_missing(data, 'TotalBsmtSF', 0.0 )\n",
    "    data = handle_missing(data, 'MasVnrArea', 0.0 )\n",
    "    \n",
    "    # missing data replaced by most frequent value\n",
    "    data = handle_missing(data, 'MasVnrType', 'None' )\n",
    "    data = handle_missing(data, 'Electrical','SBrkr' )\n",
    "    data = handle_missing(data, 'Functional','Typ' )\n",
    "    data = handle_missing(data, 'KitchenQual','TA' )\n",
    "    data = handle_missing(data, 'MSZoning','RL' )\n",
    "    data = handle_missing(data, 'Exterior1st','VinylSd' )\n",
    "    data = handle_missing(data, 'Exterior2nd','VinylSd' )    \n",
    "    data = handle_missing(data, 'SaleType','WD' )\n",
    "    \n",
    "    # not in training set\n",
    "    data = data.drop(['Utilities'], axis=1)\n",
    "    \n",
    "    return data"
   ]
  },
  {
   "cell_type": "markdown",
   "metadata": {},
   "source": [
    "# Handle Categorical  Data #"
   ]
  },
  {
   "cell_type": "code",
   "execution_count": 5,
   "metadata": {
    "collapsed": true
   },
   "outputs": [],
   "source": [
    "categoricaldata = ('MiscFeature', 'Alley', 'Fence', 'FireplaceQu', 'PoolQC',\n",
    "                       'Street', 'BsmtCond', 'GarageCond', 'GarageQual',\n",
    "                      'BsmtQual', 'CentralAir', 'ExterQual', 'ExterCond', 'HeatingQC',\n",
    "                      'KitchenQual', 'BsmtFinType1','BsmtFinType2', 'Functional',\n",
    "                      'BsmtExposure', 'GarageFinish','LandSlope', 'LotShape', 'MSZoning',\n",
    "                      'LandContour', 'LotConfig', 'Neighborhood', 'Condition1',\n",
    "                      'Condition2', 'BldgType', 'HouseStyle', 'RoofStyle', 'RoofMatl', 'Exterior1st',\n",
    "                      'Exterior2nd', 'MasVnrType', 'Foundation', 'Heating', 'Electrical', 'GarageType',\n",
    "                      'PavedDrive', 'SaleType', 'SaleCondition')\n"
   ]
  },
  {
   "cell_type": "markdown",
   "metadata": {},
   "source": [
    "# Data Skew #"
   ]
  },
  {
   "cell_type": "code",
   "execution_count": 6,
   "metadata": {
    "collapsed": true
   },
   "outputs": [],
   "source": [
    "import seaborn as sns\n",
    "\n",
    "def plot_distribution(data, label):\n",
    "    # set size of the graph\n",
    "    plt.subplots(figsize=(20, 7))\n",
    "    ax = sns.distplot(data, color=\"g\", kde=True )\n",
    "    ax.axvline(np.mean(data),linewidth=1, color='b')\n",
    "    ax.axvline(np.median(data),linewidth=1, color='r')\n",
    "\n",
    "    plt.title(\"Distribution of {}\".format(label))\n",
    "    plt.ylabel(\"Number of Occurences\")\n",
    "    plt.xlabel(label);\n",
    "    plt.show()"
   ]
  },
  {
   "cell_type": "code",
   "execution_count": 7,
   "metadata": {
    "collapsed": false
   },
   "outputs": [
    {
     "name": "stdout",
     "output_type": "stream",
     "text": [
      "accepted\n"
     ]
    }
   ],
   "source": [
    "from scipy.special import boxcox1p\n",
    "\n",
    "def check_skewed(data, treshold):\n",
    "    skewcheck = data.dtypes[data.dtypes != \"object\"].index\n",
    "    skewed = data[skewcheck].skew().sort_values(ascending=False)\n",
    "    skew_df = pd.DataFrame(skewed)\n",
    "    skew_df = abs(skew_df)\n",
    "    skew_df = skew_df[skew_df > treshold]\n",
    "    skew_df = skew_df.dropna()\n",
    "    return skew_df\n",
    "\n",
    "def unskew_boxcox1p(data, skew_df, lm):\n",
    "    needs_fixing = skew_df.index\n",
    "    for x in needs_fixing:\n",
    "        data[x] = boxcox1p(data[x], lm)\n",
    "        #data[x] += 1\n",
    "    return data\n",
    "\n",
    "def unskew_boxcox1p_all(data, lm):\n",
    "    return boxcox1p(data, lm)\n",
    "\n",
    "from scipy.special import inv_boxcox1p\n",
    "\n",
    "def skew_inv_boxcox1p(data, lm):\n",
    "    return inv_boxcox1p(data, lm)\n",
    "    \n",
    "print(\"accepted\")    "
   ]
  },
  {
   "cell_type": "markdown",
   "metadata": {},
   "source": [
    "# Data Drop #"
   ]
  },
  {
   "cell_type": "code",
   "execution_count": 8,
   "metadata": {
    "collapsed": true
   },
   "outputs": [],
   "source": [
    "def do_remove_outliers_simple(data):\n",
    "    data = data.drop(data[(data['GrLivArea']>4000) & (data['SalePrice']<300000)].index)\n",
    "    return data\n",
    "\n",
    "def do_outliers_Ids(data):\n",
    "    a = data['GrLivArea']>4000\n",
    "    b = data['SalePrice']<300000\n",
    "    f = [a, b]\n",
    "    return pd.concat(f)"
   ]
  },
  {
   "cell_type": "markdown",
   "metadata": {},
   "source": [
    "# Standardization #"
   ]
  },
  {
   "cell_type": "code",
   "execution_count": 9,
   "metadata": {
    "collapsed": true
   },
   "outputs": [],
   "source": [
    "\n",
    "scalerdata = ['1stFlrSF', '2ndFlrSF', '3SsnPorch', 'BedroomAbvGr', 'BsmtFinSF1', \n",
    "                 'BsmtFinSF2', 'BsmtUnfSF', 'EnclosedPorch', \n",
    "                 'Fireplaces',  'GarageYrBlt', 'HalfBath', 'FullBath',\n",
    "                 'GrLivArea',  'KitchenAbvGr', 'LotArea', 'LotFrontage', \n",
    "                 'LowQualFinSF', 'MSSubClass', 'MasVnrArea', 'MiscVal', 'MoSold', 'OpenPorchSF', \n",
    "                 'OverallCond', 'OverallQual', 'PoolArea', 'ScreenPorch', \n",
    "                 'TotRmsAbvGrd', 'TotalBsmtSF', 'WoodDeckSF', 'YearBuilt', 'YearRemodAdd', 'YrSold']\n",
    "\n",
    "#   'GarageCars', 'SalePrice', 'BsmtFullBath', 'BsmtHalfBath', \n",
    "\n",
    "from sklearn.preprocessing import StandardScaler\n"
   ]
  },
  {
   "cell_type": "markdown",
   "metadata": {},
   "source": [
    "# Model #"
   ]
  },
  {
   "cell_type": "code",
   "execution_count": 10,
   "metadata": {
    "collapsed": false,
    "scrolled": true
   },
   "outputs": [
    {
     "name": "stdout",
     "output_type": "stream",
     "text": [
      "data_train: (1460, 81)\n",
      "data_test: (1459, 80)\n",
      "train_ids: (1458,)\n",
      "test_ids: (1459,)\n",
      "all_data: (2917, 298)\n",
      "all_data: (2917, 298)\n",
      "features_train: (1458, 298)\n",
      "features_test: (1459, 298)\n",
      "features_train: (1458, 297)\n",
      "features_test: (1459, 297)\n",
      "target_train: (1458,)\n",
      "Index([], dtype='object')\n",
      "Index([], dtype='object')\n",
      "DROP FEATURES  is OFF\n",
      "ONE HOT ENCODE is ON\n",
      "UNSKEW DATA    is ON\n",
      "SCALING        is ON\n"
     ]
    }
   ],
   "source": [
    "stopwatch.start()\n",
    "data_train, data_test = um.load_data()\n",
    "\n",
    "print_shape( data_train, 'data_train')\n",
    "print_shape( data_test, 'data_test')\n",
    "\n",
    "# get outliers Id, will be removed later\n",
    "data_train = do.remove_this_Ids(data_train, [524, 1299])\n",
    "\n",
    "# target variable, preserve and remove from data\n",
    "target_train = data_train[['SalePrice','Id']]\n",
    "data_train = data_train.drop(['SalePrice'], axis = 1)\n",
    "\n",
    "\n",
    "# concatenate test and train data\n",
    "train_ids = data_train['Id']\n",
    "test_ids = data_test['Id']\n",
    "\n",
    "print_shape( train_ids, 'train_ids')\n",
    "print_shape( test_ids, 'test_ids')\n",
    "\n",
    "all_data = pd.concat([data_train, data_test])\n",
    "all_ids = all_data['Id']\n",
    "\n",
    "all_data = do_handle_missing_data(all_data)\n",
    "all_data = do.add_TotalSF(all_data)\n",
    "\n",
    "dropcolumns = ('BsmtFinSF2','BsmtHalfBath','MiscVal','LowQualFinSF', 'YrSold', 'OverallCond', 'MSSubClass', 'EnclosedPorch',\n",
    " 'KitchenAbvGr',   'BsmtFullBath', 'BsmtUnfSF', 'BedroomAbvGr', 'ScreenPorch',  'MoSold', '3SsnPorch')\n",
    "\n",
    "# LABEL ENCODER\n",
    "all_data = do.encode_categorical(all_data, categoricaldata)\n",
    "\n",
    "# DROP SOME DATA  & DO ONE HOT ENCODING\n",
    "drop_columns = False\n",
    "do_dummies = True\n",
    "if drop_columns:\n",
    "    all_data = all_data.drop(list(dropcolumns), axis = 1)\n",
    "    to_dummies = set(categoricaldata) - set(dropcolumns)\n",
    "    if do_dummies:\n",
    "        all_data = pd.get_dummies(all_data, columns=list(to_dummies))\n",
    "else:\n",
    "    if do_dummies:\n",
    "        all_data = pd.get_dummies(all_data, columns=list(categoricaldata))\n",
    "\n",
    "keep_cols = all_data.select_dtypes(include = ['number']).columns\n",
    "all_data = all_data[keep_cols]\n",
    "\n",
    "all_data_untransformed = all_data.copy()\n",
    "target_untransformed = target_train.copy()\n",
    "\n",
    "# UNSKEW\n",
    "unskew_data = True\n",
    "if unskew_data:\n",
    "    skewed_data = check_skewed(all_data, 0.75)\n",
    "    all_data = unskew_boxcox1p(all_data, skewed_data, 0.25)\n",
    "    target_train = boxcox1p(target_train, 0.25)\n",
    "\n",
    "print_shape( all_data, 'all_data')\n",
    "    \n",
    "# STANDARDIZATION\n",
    "do_scaling = True\n",
    "if do_scaling:\n",
    "    # scale features\n",
    "    scaler = StandardScaler()\n",
    "    scaler.fit(all_data[scalerdata])\n",
    "    all_data[scalerdata] = scaler.transform(all_data[scalerdata])\n",
    "    # scale target variable\n",
    "    if True:\n",
    "        scaler2 = StandardScaler()\n",
    "        X = target_train['SalePrice'].values.reshape(-1,1)\n",
    "        scaler2.fit(X)\n",
    "        target_train_scaled = scaler2.transform(X)\n",
    "        target_train['SalePrice'] = target_train_scaled\n",
    "        # check with inverse\n",
    "        inv_X = scaler2.inverse_transform(target_train_scaled)\n",
    "        #print(np.isclose(inv_X.astype(np.float),X.astype(np.float)))\n",
    "\n",
    "    \n",
    "print_shape( all_data, 'all_data')\n",
    "\n",
    "all_data['Id'] = all_ids\n",
    "\n",
    "features_train = all_data[all_data['Id'].isin(train_ids)]\n",
    "features_test = all_data[all_data['Id'].isin(test_ids)]\n",
    "print_shape( features_train, 'features_train')\n",
    "print_shape( features_test, 'features_test')\n",
    "\n",
    "#features_train = features_train.drop(features_train['Id'].isin(outliers_ids))\n",
    "#target_train = target_train.drop(target_train['Id'].isin(outliers_ids))\n",
    "\n",
    "features_train = features_train.drop(['Id'], axis = 1)\n",
    "features_test = features_test.drop(['Id'], axis = 1)\n",
    "target_train = target_train.drop(['Id'], axis = 1)\n",
    "target_train = target_train['SalePrice'].values\n",
    "\n",
    "print_shape( features_train, 'features_train')\n",
    "print_shape( features_test, 'features_test')\n",
    "print_shape( target_train, 'target_train')\n",
    "\n",
    "print(features_train.columns[features_train.isnull().any()])\n",
    "print(features_test.columns[features_test.isnull().any()])\n",
    "\n",
    "features_test.head()\n",
    "\n",
    "features = features_train\n",
    "target = target_train\n",
    "\n",
    "target_normal = target_untransformed['SalePrice'].values\n",
    "\n",
    "print_model_param(drop_columns, do_dummies, unskew_data, do_scaling)"
   ]
  },
  {
   "cell_type": "code",
   "execution_count": 11,
   "metadata": {
    "collapsed": true
   },
   "outputs": [],
   "source": [
    "def inverse_transform_single(data_pred_raw_, do_scaling_, unskew_data_):\n",
    "    lm = 0.25\n",
    "    if do_scaling_:\n",
    "        data_pred_unscaled = scaler2.inverse_transform(data_pred_raw_)\n",
    "    else:\n",
    "        data_pred_unscaled = data_pred_raw_\n",
    "    if unskew_data_:\n",
    "        data_pred_normal_ = skew_inv_boxcox1p(data_pred_unscaled, lm)\n",
    "    else:\n",
    "        data_pred_normal_ = data_pred_unscaled\n",
    "    return data_pred_normal_"
   ]
  },
  {
   "cell_type": "code",
   "execution_count": 12,
   "metadata": {
    "collapsed": false
   },
   "outputs": [
    {
     "name": "stdout",
     "output_type": "stream",
     "text": [
      "[ 0.51724559  0.1621281   0.69982161 ...,  1.17669837 -0.43484403\n",
      " -0.34655961]\n"
     ]
    }
   ],
   "source": [
    "print(target)"
   ]
  },
  {
   "cell_type": "code",
   "execution_count": 17,
   "metadata": {
    "collapsed": false
   },
   "outputs": [
    {
     "ename": "TypeError",
     "evalue": "slice indices must be integers or None or have an __index__ method",
     "output_type": "error",
     "traceback": [
      "\u001b[0;31m---------------------------------------------------------------------------\u001b[0m",
      "\u001b[0;31mTypeError\u001b[0m                                 Traceback (most recent call last)",
      "\u001b[0;32m<ipython-input-17-ca8bc7789004>\u001b[0m in \u001b[0;36m<module>\u001b[0;34m()\u001b[0m\n\u001b[0;32m----> 1\u001b[0;31m \u001b[0mplot_distribution\u001b[0m\u001b[0;34m(\u001b[0m\u001b[0mtarget_train\u001b[0m\u001b[0;34m,\u001b[0m \u001b[0;34m'SalePrice Transformed'\u001b[0m\u001b[0;34m)\u001b[0m\u001b[0;34m\u001b[0m\u001b[0m\n\u001b[0m",
      "\u001b[0;32m<ipython-input-6-34f75060f27c>\u001b[0m in \u001b[0;36mplot_distribution\u001b[0;34m(data, label)\u001b[0m\n\u001b[1;32m      4\u001b[0m     \u001b[0;31m# set size of the graph\u001b[0m\u001b[0;34m\u001b[0m\u001b[0;34m\u001b[0m\u001b[0m\n\u001b[1;32m      5\u001b[0m     \u001b[0mplt\u001b[0m\u001b[0;34m.\u001b[0m\u001b[0msubplots\u001b[0m\u001b[0;34m(\u001b[0m\u001b[0mfigsize\u001b[0m\u001b[0;34m=\u001b[0m\u001b[0;34m(\u001b[0m\u001b[0;36m20\u001b[0m\u001b[0;34m,\u001b[0m \u001b[0;36m7\u001b[0m\u001b[0;34m)\u001b[0m\u001b[0;34m)\u001b[0m\u001b[0;34m\u001b[0m\u001b[0m\n\u001b[0;32m----> 6\u001b[0;31m     \u001b[0max\u001b[0m \u001b[0;34m=\u001b[0m \u001b[0msns\u001b[0m\u001b[0;34m.\u001b[0m\u001b[0mdistplot\u001b[0m\u001b[0;34m(\u001b[0m\u001b[0mdata\u001b[0m\u001b[0;34m,\u001b[0m \u001b[0mcolor\u001b[0m\u001b[0;34m=\u001b[0m\u001b[0;34m\"g\"\u001b[0m\u001b[0;34m,\u001b[0m \u001b[0mkde\u001b[0m\u001b[0;34m=\u001b[0m\u001b[0;32mTrue\u001b[0m \u001b[0;34m)\u001b[0m\u001b[0;34m\u001b[0m\u001b[0m\n\u001b[0m\u001b[1;32m      7\u001b[0m     \u001b[0max\u001b[0m\u001b[0;34m.\u001b[0m\u001b[0maxvline\u001b[0m\u001b[0;34m(\u001b[0m\u001b[0mnp\u001b[0m\u001b[0;34m.\u001b[0m\u001b[0mmean\u001b[0m\u001b[0;34m(\u001b[0m\u001b[0mdata\u001b[0m\u001b[0;34m)\u001b[0m\u001b[0;34m,\u001b[0m\u001b[0mlinewidth\u001b[0m\u001b[0;34m=\u001b[0m\u001b[0;36m1\u001b[0m\u001b[0;34m,\u001b[0m \u001b[0mcolor\u001b[0m\u001b[0;34m=\u001b[0m\u001b[0;34m'b'\u001b[0m\u001b[0;34m)\u001b[0m\u001b[0;34m\u001b[0m\u001b[0m\n\u001b[1;32m      8\u001b[0m     \u001b[0max\u001b[0m\u001b[0;34m.\u001b[0m\u001b[0maxvline\u001b[0m\u001b[0;34m(\u001b[0m\u001b[0mnp\u001b[0m\u001b[0;34m.\u001b[0m\u001b[0mmedian\u001b[0m\u001b[0;34m(\u001b[0m\u001b[0mdata\u001b[0m\u001b[0;34m)\u001b[0m\u001b[0;34m,\u001b[0m\u001b[0mlinewidth\u001b[0m\u001b[0;34m=\u001b[0m\u001b[0;36m1\u001b[0m\u001b[0;34m,\u001b[0m \u001b[0mcolor\u001b[0m\u001b[0;34m=\u001b[0m\u001b[0;34m'r'\u001b[0m\u001b[0;34m)\u001b[0m\u001b[0;34m\u001b[0m\u001b[0m\n",
      "\u001b[0;32m/home/aind2/anaconda3/lib/python3.6/site-packages/seaborn/distributions.py\u001b[0m in \u001b[0;36mdistplot\u001b[0;34m(a, bins, hist, kde, rug, fit, hist_kws, kde_kws, rug_kws, fit_kws, color, vertical, norm_hist, axlabel, label, ax)\u001b[0m\n\u001b[1;32m    219\u001b[0m     \u001b[0;32mif\u001b[0m \u001b[0mkde\u001b[0m\u001b[0;34m:\u001b[0m\u001b[0;34m\u001b[0m\u001b[0m\n\u001b[1;32m    220\u001b[0m         \u001b[0mkde_color\u001b[0m \u001b[0;34m=\u001b[0m \u001b[0mkde_kws\u001b[0m\u001b[0;34m.\u001b[0m\u001b[0mpop\u001b[0m\u001b[0;34m(\u001b[0m\u001b[0;34m\"color\"\u001b[0m\u001b[0;34m,\u001b[0m \u001b[0mcolor\u001b[0m\u001b[0;34m)\u001b[0m\u001b[0;34m\u001b[0m\u001b[0m\n\u001b[0;32m--> 221\u001b[0;31m         \u001b[0mkdeplot\u001b[0m\u001b[0;34m(\u001b[0m\u001b[0ma\u001b[0m\u001b[0;34m,\u001b[0m \u001b[0mvertical\u001b[0m\u001b[0;34m=\u001b[0m\u001b[0mvertical\u001b[0m\u001b[0;34m,\u001b[0m \u001b[0max\u001b[0m\u001b[0;34m=\u001b[0m\u001b[0max\u001b[0m\u001b[0;34m,\u001b[0m \u001b[0mcolor\u001b[0m\u001b[0;34m=\u001b[0m\u001b[0mkde_color\u001b[0m\u001b[0;34m,\u001b[0m \u001b[0;34m**\u001b[0m\u001b[0mkde_kws\u001b[0m\u001b[0;34m)\u001b[0m\u001b[0;34m\u001b[0m\u001b[0m\n\u001b[0m\u001b[1;32m    222\u001b[0m         \u001b[0;32mif\u001b[0m \u001b[0mkde_color\u001b[0m \u001b[0;34m!=\u001b[0m \u001b[0mcolor\u001b[0m\u001b[0;34m:\u001b[0m\u001b[0;34m\u001b[0m\u001b[0m\n\u001b[1;32m    223\u001b[0m             \u001b[0mkde_kws\u001b[0m\u001b[0;34m[\u001b[0m\u001b[0;34m\"color\"\u001b[0m\u001b[0;34m]\u001b[0m \u001b[0;34m=\u001b[0m \u001b[0mkde_color\u001b[0m\u001b[0;34m\u001b[0m\u001b[0m\n",
      "\u001b[0;32m/home/aind2/anaconda3/lib/python3.6/site-packages/seaborn/distributions.py\u001b[0m in \u001b[0;36mkdeplot\u001b[0;34m(data, data2, shade, vertical, kernel, bw, gridsize, cut, clip, legend, cumulative, shade_lowest, ax, **kwargs)\u001b[0m\n\u001b[1;32m    602\u001b[0m         ax = _univariate_kdeplot(data, shade, vertical, kernel, bw,\n\u001b[1;32m    603\u001b[0m                                  \u001b[0mgridsize\u001b[0m\u001b[0;34m,\u001b[0m \u001b[0mcut\u001b[0m\u001b[0;34m,\u001b[0m \u001b[0mclip\u001b[0m\u001b[0;34m,\u001b[0m \u001b[0mlegend\u001b[0m\u001b[0;34m,\u001b[0m \u001b[0max\u001b[0m\u001b[0;34m,\u001b[0m\u001b[0;34m\u001b[0m\u001b[0m\n\u001b[0;32m--> 604\u001b[0;31m                                  cumulative=cumulative, **kwargs)\n\u001b[0m\u001b[1;32m    605\u001b[0m \u001b[0;34m\u001b[0m\u001b[0m\n\u001b[1;32m    606\u001b[0m     \u001b[0;32mreturn\u001b[0m \u001b[0max\u001b[0m\u001b[0;34m\u001b[0m\u001b[0m\n",
      "\u001b[0;32m/home/aind2/anaconda3/lib/python3.6/site-packages/seaborn/distributions.py\u001b[0m in \u001b[0;36m_univariate_kdeplot\u001b[0;34m(data, shade, vertical, kernel, bw, gridsize, cut, clip, legend, ax, cumulative, **kwargs)\u001b[0m\n\u001b[1;32m    268\u001b[0m         x, y = _statsmodels_univariate_kde(data, kernel, bw,\n\u001b[1;32m    269\u001b[0m                                            \u001b[0mgridsize\u001b[0m\u001b[0;34m,\u001b[0m \u001b[0mcut\u001b[0m\u001b[0;34m,\u001b[0m \u001b[0mclip\u001b[0m\u001b[0;34m,\u001b[0m\u001b[0;34m\u001b[0m\u001b[0m\n\u001b[0;32m--> 270\u001b[0;31m                                            cumulative=cumulative)\n\u001b[0m\u001b[1;32m    271\u001b[0m     \u001b[0;32melse\u001b[0m\u001b[0;34m:\u001b[0m\u001b[0;34m\u001b[0m\u001b[0m\n\u001b[1;32m    272\u001b[0m         \u001b[0;31m# Fall back to scipy if missing statsmodels\u001b[0m\u001b[0;34m\u001b[0m\u001b[0;34m\u001b[0m\u001b[0m\n",
      "\u001b[0;32m/home/aind2/anaconda3/lib/python3.6/site-packages/seaborn/distributions.py\u001b[0m in \u001b[0;36m_statsmodels_univariate_kde\u001b[0;34m(data, kernel, bw, gridsize, cut, clip, cumulative)\u001b[0m\n\u001b[1;32m    326\u001b[0m     \u001b[0mfft\u001b[0m \u001b[0;34m=\u001b[0m \u001b[0mkernel\u001b[0m \u001b[0;34m==\u001b[0m \u001b[0;34m\"gau\"\u001b[0m\u001b[0;34m\u001b[0m\u001b[0m\n\u001b[1;32m    327\u001b[0m     \u001b[0mkde\u001b[0m \u001b[0;34m=\u001b[0m \u001b[0msmnp\u001b[0m\u001b[0;34m.\u001b[0m\u001b[0mKDEUnivariate\u001b[0m\u001b[0;34m(\u001b[0m\u001b[0mdata\u001b[0m\u001b[0;34m)\u001b[0m\u001b[0;34m\u001b[0m\u001b[0m\n\u001b[0;32m--> 328\u001b[0;31m     \u001b[0mkde\u001b[0m\u001b[0;34m.\u001b[0m\u001b[0mfit\u001b[0m\u001b[0;34m(\u001b[0m\u001b[0mkernel\u001b[0m\u001b[0;34m,\u001b[0m \u001b[0mbw\u001b[0m\u001b[0;34m,\u001b[0m \u001b[0mfft\u001b[0m\u001b[0;34m,\u001b[0m \u001b[0mgridsize\u001b[0m\u001b[0;34m=\u001b[0m\u001b[0mgridsize\u001b[0m\u001b[0;34m,\u001b[0m \u001b[0mcut\u001b[0m\u001b[0;34m=\u001b[0m\u001b[0mcut\u001b[0m\u001b[0;34m,\u001b[0m \u001b[0mclip\u001b[0m\u001b[0;34m=\u001b[0m\u001b[0mclip\u001b[0m\u001b[0;34m)\u001b[0m\u001b[0;34m\u001b[0m\u001b[0m\n\u001b[0m\u001b[1;32m    329\u001b[0m     \u001b[0;32mif\u001b[0m \u001b[0mcumulative\u001b[0m\u001b[0;34m:\u001b[0m\u001b[0;34m\u001b[0m\u001b[0m\n\u001b[1;32m    330\u001b[0m         \u001b[0mgrid\u001b[0m\u001b[0;34m,\u001b[0m \u001b[0my\u001b[0m \u001b[0;34m=\u001b[0m \u001b[0mkde\u001b[0m\u001b[0;34m.\u001b[0m\u001b[0msupport\u001b[0m\u001b[0;34m,\u001b[0m \u001b[0mkde\u001b[0m\u001b[0;34m.\u001b[0m\u001b[0mcdf\u001b[0m\u001b[0;34m\u001b[0m\u001b[0m\n",
      "\u001b[0;32m/home/aind2/anaconda3/lib/python3.6/site-packages/statsmodels/nonparametric/kde.py\u001b[0m in \u001b[0;36mfit\u001b[0;34m(self, kernel, bw, fft, weights, gridsize, adjust, cut, clip)\u001b[0m\n\u001b[1;32m    144\u001b[0m             density, grid, bw = kdensityfft(endog, kernel=kernel, bw=bw,\n\u001b[1;32m    145\u001b[0m                     \u001b[0madjust\u001b[0m\u001b[0;34m=\u001b[0m\u001b[0madjust\u001b[0m\u001b[0;34m,\u001b[0m \u001b[0mweights\u001b[0m\u001b[0;34m=\u001b[0m\u001b[0mweights\u001b[0m\u001b[0;34m,\u001b[0m \u001b[0mgridsize\u001b[0m\u001b[0;34m=\u001b[0m\u001b[0mgridsize\u001b[0m\u001b[0;34m,\u001b[0m\u001b[0;34m\u001b[0m\u001b[0m\n\u001b[0;32m--> 146\u001b[0;31m                     clip=clip, cut=cut)\n\u001b[0m\u001b[1;32m    147\u001b[0m         \u001b[0;32melse\u001b[0m\u001b[0;34m:\u001b[0m\u001b[0;34m\u001b[0m\u001b[0m\n\u001b[1;32m    148\u001b[0m             density, grid, bw = kdensity(endog, kernel=kernel, bw=bw,\n",
      "\u001b[0;32m/home/aind2/anaconda3/lib/python3.6/site-packages/statsmodels/nonparametric/kde.py\u001b[0m in \u001b[0;36mkdensityfft\u001b[0;34m(X, kernel, bw, weights, gridsize, adjust, clip, cut, retgrid)\u001b[0m\n\u001b[1;32m    504\u001b[0m     \u001b[0mzstar\u001b[0m \u001b[0;34m=\u001b[0m \u001b[0msilverman_transform\u001b[0m\u001b[0;34m(\u001b[0m\u001b[0mbw\u001b[0m\u001b[0;34m,\u001b[0m \u001b[0mgridsize\u001b[0m\u001b[0;34m,\u001b[0m \u001b[0mRANGE\u001b[0m\u001b[0;34m)\u001b[0m\u001b[0;34m*\u001b[0m\u001b[0my\u001b[0m \u001b[0;31m# 3.49 in Silverman\u001b[0m\u001b[0;34m\u001b[0m\u001b[0m\n\u001b[1;32m    505\u001b[0m                                                    \u001b[0;31m# 3.50 w Gaussian kernel\u001b[0m\u001b[0;34m\u001b[0m\u001b[0;34m\u001b[0m\u001b[0m\n\u001b[0;32m--> 506\u001b[0;31m     \u001b[0mf\u001b[0m \u001b[0;34m=\u001b[0m \u001b[0mrevrt\u001b[0m\u001b[0;34m(\u001b[0m\u001b[0mzstar\u001b[0m\u001b[0;34m)\u001b[0m\u001b[0;34m\u001b[0m\u001b[0m\n\u001b[0m\u001b[1;32m    507\u001b[0m     \u001b[0;32mif\u001b[0m \u001b[0mretgrid\u001b[0m\u001b[0;34m:\u001b[0m\u001b[0;34m\u001b[0m\u001b[0m\n\u001b[1;32m    508\u001b[0m         \u001b[0;32mreturn\u001b[0m \u001b[0mf\u001b[0m\u001b[0;34m,\u001b[0m \u001b[0mgrid\u001b[0m\u001b[0;34m,\u001b[0m \u001b[0mbw\u001b[0m\u001b[0;34m\u001b[0m\u001b[0m\n",
      "\u001b[0;32m/home/aind2/anaconda3/lib/python3.6/site-packages/statsmodels/nonparametric/kdetools.py\u001b[0m in \u001b[0;36mrevrt\u001b[0;34m(X, m)\u001b[0m\n\u001b[1;32m     18\u001b[0m     \u001b[0;32mif\u001b[0m \u001b[0mm\u001b[0m \u001b[0;32mis\u001b[0m \u001b[0;32mNone\u001b[0m\u001b[0;34m:\u001b[0m\u001b[0;34m\u001b[0m\u001b[0m\n\u001b[1;32m     19\u001b[0m         \u001b[0mm\u001b[0m \u001b[0;34m=\u001b[0m \u001b[0mlen\u001b[0m\u001b[0;34m(\u001b[0m\u001b[0mX\u001b[0m\u001b[0;34m)\u001b[0m\u001b[0;34m\u001b[0m\u001b[0m\n\u001b[0;32m---> 20\u001b[0;31m     \u001b[0my\u001b[0m \u001b[0;34m=\u001b[0m \u001b[0mX\u001b[0m\u001b[0;34m[\u001b[0m\u001b[0;34m:\u001b[0m\u001b[0mm\u001b[0m\u001b[0;34m/\u001b[0m\u001b[0;36m2\u001b[0m\u001b[0;34m+\u001b[0m\u001b[0;36m1\u001b[0m\u001b[0;34m]\u001b[0m \u001b[0;34m+\u001b[0m \u001b[0mnp\u001b[0m\u001b[0;34m.\u001b[0m\u001b[0mr_\u001b[0m\u001b[0;34m[\u001b[0m\u001b[0;36m0\u001b[0m\u001b[0;34m,\u001b[0m\u001b[0mX\u001b[0m\u001b[0;34m[\u001b[0m\u001b[0mm\u001b[0m\u001b[0;34m/\u001b[0m\u001b[0;36m2\u001b[0m\u001b[0;34m+\u001b[0m\u001b[0;36m1\u001b[0m\u001b[0;34m:\u001b[0m\u001b[0;34m]\u001b[0m\u001b[0;34m,\u001b[0m\u001b[0;36m0\u001b[0m\u001b[0;34m]\u001b[0m\u001b[0;34m*\u001b[0m\u001b[0;36m1j\u001b[0m\u001b[0;34m\u001b[0m\u001b[0m\n\u001b[0m\u001b[1;32m     21\u001b[0m     \u001b[0;32mreturn\u001b[0m \u001b[0mnp\u001b[0m\u001b[0;34m.\u001b[0m\u001b[0mfft\u001b[0m\u001b[0;34m.\u001b[0m\u001b[0mirfft\u001b[0m\u001b[0;34m(\u001b[0m\u001b[0my\u001b[0m\u001b[0;34m)\u001b[0m\u001b[0;34m*\u001b[0m\u001b[0mm\u001b[0m\u001b[0;34m\u001b[0m\u001b[0m\n\u001b[1;32m     22\u001b[0m \u001b[0;34m\u001b[0m\u001b[0m\n",
      "\u001b[0;31mTypeError\u001b[0m: slice indices must be integers or None or have an __index__ method"
     ]
    },
    {
     "name": "stderr",
     "output_type": "stream",
     "text": [
      "/home/aind2/anaconda3/lib/python3.6/site-packages/matplotlib/font_manager.py:1297: UserWarning: findfont: Font family ['sans-serif'] not found. Falling back to DejaVu Sans\n",
      "  (prop.get_family(), self.defaultFamily[fontext]))\n"
     ]
    },
    {
     "data": {
      "image/png": "[encoded data removed]",
      "text/plain": [
       "<matplotlib.figure.Figure at 0x7fef2c299470>"
      ]
     },
     "metadata": {},
     "output_type": "display_data"
    }
   ],
   "source": [
    "plot_distribution(target_train, 'SalePrice Transformed')"
   ]
  },
  {
   "cell_type": "code",
   "execution_count": null,
   "metadata": {
    "collapsed": false
   },
   "outputs": [],
   "source": [
    "plot_distribution(features['GrLivArea'], 'GrLivArea')"
   ]
  },
  {
   "cell_type": "markdown",
   "metadata": {},
   "source": [
    "# Metrics #"
   ]
  },
  {
   "cell_type": "code",
   "execution_count": 29,
   "metadata": {
    "collapsed": true
   },
   "outputs": [],
   "source": [
    "import sklearn\n",
    "import numpy as np\n",
    "\n",
    "from sklearn.metrics import mean_squared_error\n",
    "from sklearn.metrics import r2_score\n",
    "\n",
    "def RMSE(y, y_pred):\n",
    "    return np.sqrt(np.sum(np.square(y_pred-y))/len(y))\n",
    "\n",
    "def RMSElog(y, y_pred):\n",
    "    y = np.log(y)\n",
    "    y_pred = np.log(y_pred)\n",
    "    return np.sqrt(np.sum(np.square(y_pred-y))/len(y))\n",
    "\n",
    "def calc_metrics(y, y_pred):\n",
    "    r2score = r2_score(y, y_pred)\n",
    "    rmse_log = RMSElog(y, y_pred)\n",
    "    rmse = RMSE(y, y_pred)\n",
    "    return rmse, rmse_log,  r2score\n",
    "\n",
    "def print_metrics (rmse, rmse_log,r2score):\n",
    "    print('RMSE               : {:.4f}'.format(rmse, prec=5))\n",
    "    print('RMSE of logarithms : {:.4f}'.format(rmse_log, prec=5))\n",
    "    print('R2 score           : {:.6f}'.format(r2score, prec = 5))\n",
    "    \n",
    "def show_metrics(y, y_pred):\n",
    "    rmse, rmse_log, r2score = calc_metrics(y, y_pred)\n",
    "    print_metrics(rmse, rmse_log, r2score )\n",
    "    return rmse, rmse_log, r2score\n",
    "       "
   ]
  },
  {
   "cell_type": "markdown",
   "metadata": {},
   "source": [
    "# Methods #"
   ]
  },
  {
   "cell_type": "code",
   "execution_count": null,
   "metadata": {
    "collapsed": false
   },
   "outputs": [],
   "source": [
    "from xgboost import XGBRegressor\n",
    "xgb = XGBRegressor(colsample_bytree=0.2, learning_rate=0.05, max_depth=2, n_estimators=1700, random_state = 133)\n",
    "\n",
    "from sklearn.ensemble import GradientBoostingRegressor\n",
    "gbr = GradientBoostingRegressor(max_depth=2, n_estimators=1000, max_features = 'sqrt',  learning_rate = 0.05, random_state=1234)\n",
    "\n",
    "from sklearn.ensemble import RandomForestRegressor\n",
    "rfr = RandomForestRegressor(max_depth=20, n_estimators=375, max_features = 'sqrt', oob_score=True, random_state=1234)"
   ]
  },
  {
   "cell_type": "markdown",
   "metadata": {},
   "source": [
    "# Grid Search #"
   ]
  },
  {
   "cell_type": "code",
   "execution_count": null,
   "metadata": {
    "collapsed": false
   },
   "outputs": [],
   "source": [
    "print('Stacked regressions')\n",
    "show_metrics(target_normal, predictions_normal )"
   ]
  },
  {
   "cell_type": "markdown",
   "metadata": {},
   "source": [
    "# Output #"
   ]
  },
  {
   "cell_type": "code",
   "execution_count": null,
   "metadata": {
    "collapsed": false,
    "scrolled": true
   },
   "outputs": [],
   "source": [
    "# use all data for learning\n",
    "\n",
    "stopwatch.start()\n",
    "\n",
    "rfr.fit(features_train, target_train)\n",
    "predictions_rfr = rfr.predict(features_test)\n",
    "stopwatch.print_elapsed_time()\n",
    "\n",
    "gbr.fit(features_train, target_train)\n",
    "predictions_gbr = gbr.predict(features_test)\n",
    "stopwatch.print_elapsed_time()\n",
    "\n",
    "xgb.fit(features_train, target_train)\n",
    "predictions_xgb = xgb.predict(features_test)\n",
    "stopwatch.print_elapsed_time()\n",
    "\n",
    "\n",
    "#  stacked \n",
    "predictions = xgb_w* predictions_xgb + gbr_w * predictions_gbr + rfr_w * predictions_rfr\n",
    "#predictions = predictions_xgb\n",
    "\n",
    "out_preds = pd.DataFrame()\n",
    "out_preds['Id'] = test_ids\n",
    "out_preds['SalePrice'] = predictions\n",
    "out_preds.to_csv('output7.csv', index=False)\n",
    "\n",
    "stopwatch.print_elapsed_time()\n"
   ]
  },
  {
   "cell_type": "markdown",
   "metadata": {},
   "source": [
    "# keras #"
   ]
  },
  {
   "cell_type": "code",
   "execution_count": 24,
   "metadata": {
    "collapsed": false
   },
   "outputs": [],
   "source": [
    "import numpy\n",
    "import pandas\n",
    "from keras.models import Sequential\n",
    "from keras.layers import Dense\n",
    "from keras.wrappers.scikit_learn import KerasRegressor\n",
    "from sklearn.model_selection import cross_val_score\n",
    "from sklearn.model_selection import cross_val_predict\n",
    "from sklearn.model_selection import KFold\n",
    "from sklearn.preprocessing import StandardScaler\n",
    "from sklearn.pipeline import Pipeline"
   ]
  },
  {
   "cell_type": "code",
   "execution_count": 20,
   "metadata": {
    "collapsed": true
   },
   "outputs": [],
   "source": [
    "# custom R2-score metrics for keras backend\n",
    "from keras import backend as K\n",
    "\n",
    "def r2_keras(y_true, y_pred):\n",
    "    SS_res =  K.sum(K.square(y_true - y_pred)) \n",
    "    SS_tot = K.sum(K.square(y_true - K.mean(y_true))) \n",
    "    return ( 1 - SS_res/(SS_tot + K.epsilon()) )"
   ]
  },
  {
   "cell_type": "code",
   "execution_count": 21,
   "metadata": {
    "collapsed": true
   },
   "outputs": [],
   "source": [
    "# define base model\n",
    "def baseline_model():\n",
    "    # create model\n",
    "    model = Sequential()\n",
    "    model.add(Dense(100, input_dim=297, kernel_initializer='normal', activation='relu'))\n",
    "    #model.add(Dense(100, input_dim=297, kernel_initializer='normal', activation='relu'))\n",
    "    model.add(Dense(1, kernel_initializer='normal'))\n",
    "    # Compile model\n",
    "    model.compile(loss='mean_squared_error', optimizer='adam')\n",
    "    #model.compile(loss='r2', optimizer='adam')\n",
    "    return model"
   ]
  },
  {
   "cell_type": "code",
   "execution_count": 22,
   "metadata": {
    "collapsed": true
   },
   "outputs": [],
   "source": [
    "# define the model\n",
    "def larger_model():\n",
    "    # create model\n",
    "    model = Sequential()\n",
    "    model.add(Dense(297, input_dim=297, kernel_initializer='normal', activation='relu'))\n",
    "    model.add(Dense(100, kernel_initializer='normal', activation='relu'))\n",
    "    model.add(Dense(50, kernel_initializer='normal', activation='relu'))\n",
    "    model.add(Dense(1, kernel_initializer='normal'))\n",
    "    # Compile model\n",
    "    model.compile(loss='mean_squared_error', optimizer='adam')\n",
    "    return model"
   ]
  },
  {
   "cell_type": "code",
   "execution_count": 26,
   "metadata": {
    "collapsed": true
   },
   "outputs": [],
   "source": [
    "seed = 1564\n",
    "kfold = KFold(n_splits=10, random_state=seed)"
   ]
  },
  {
   "cell_type": "markdown",
   "metadata": {},
   "source": [
    "# Reggression #"
   ]
  },
  {
   "cell_type": "code",
   "execution_count": 27,
   "metadata": {
    "collapsed": false
   },
   "outputs": [
    {
     "name": "stdout",
     "output_type": "stream",
     "text": [
      "DROP FEATURES  is OFF\n",
      "ONE HOT ENCODE is ON\n",
      "UNSKEW DATA    is ON\n",
      "SCALING        is ON\n",
      "\n",
      "Elapsed time: 00:09:55\n",
      "\n"
     ]
    }
   ],
   "source": [
    "stopwatch.start()\n",
    "seed = 2465\n",
    "numpy.random.seed(seed)\n",
    "\n",
    "print_model_param(drop_columns, do_dummies, unskew_data, do_scaling)\n",
    "\n",
    "X = features.values\n",
    "Y = target\n",
    "\n",
    "regressor = KerasRegressor(build_fn=larger_model, epochs=50, batch_size=5, verbose=0)\n",
    "y_pred_raw = cross_val_predict(regressor, X, Y, cv=kfold)\n",
    "\n",
    "stopwatch.print_elapsed_time()\n"
   ]
  },
  {
   "cell_type": "code",
   "execution_count": 30,
   "metadata": {
    "collapsed": false
   },
   "outputs": [
    {
     "name": "stdout",
     "output_type": "stream",
     "text": [
      "RMSE               : 23296.8237\n",
      "RMSE of logarithms : 0.1239\n",
      "R2 score           : 0.914057\n"
     ]
    },
    {
     "data": {
      "text/plain": [
       "(23296.82371992353, 0.12387794330734477, 0.91405686971594213)"
      ]
     },
     "execution_count": 30,
     "metadata": {},
     "output_type": "execute_result"
    }
   ],
   "source": [
    "y_pred = inverse_transform_single(y_pred_raw, do_scaling, unskew_data)\n",
    "\n",
    "show_metrics(target_normal, y_pred)"
   ]
  },
  {
   "cell_type": "code",
   "execution_count": null,
   "metadata": {
    "collapsed": true
   },
   "outputs": [],
   "source": [
    "RMSE               : 23693.3557\n",
    "RMSE of logarithms : 0.1254\n",
    "R2 score           : 0.911106\n",
    "Out[69]:\n",
    "(23693.355664020801, 0.125356286621712, 0.911106319414279)"
   ]
  },
  {
   "cell_type": "code",
   "execution_count": null,
   "metadata": {
    "collapsed": true
   },
   "outputs": [],
   "source": [
    "def plot_matching(y, y_pred):\n",
    "    stacked_results = pd.DataFrame({'target': y,'predicted':y_pred}, columns = ['target', 'predicted'])\n",
    "    stacked_results = stacked_results.sort_values('target', axis=0)\n",
    "    stacked_results.reset_index(drop=True, inplace=True)\n",
    "\n",
    "    from matplotlib.legend_handler import HandlerLine2D\n",
    "    plt.figure(figsize=(20,10))\n",
    "    ax = plt.subplot()\n",
    "    ax.set_alpha(0.5)\n",
    "    predicted_l = ax.scatter( stacked_results.index, stacked_results['predicted'], label = \"predicted\", color = 'r')\n",
    "    target_l = ax.scatter( stacked_results.index, stacked_results['target'],  label = \"target\", )\n",
    "    plt.legend(handles=[predicted_l], loc=2)\n",
    "    plt.legend(handles=[target_l], loc=2)\n",
    "    ax.set_xlabel('Index after sort')\n",
    "    ax.set_ylabel('SVR')\n",
    "    plt.show()"
   ]
  },
  {
   "cell_type": "code",
   "execution_count": null,
   "metadata": {
    "collapsed": false
   },
   "outputs": [],
   "source": [
    "plot_matching(target_normal, y_pred)"
   ]
  },
  {
   "cell_type": "code",
   "execution_count": null,
   "metadata": {
    "collapsed": true
   },
   "outputs": [],
   "source": []
  }
 ],
 "metadata": {
  "kernelspec": {
   "display_name": "tensorflow",
   "language": "python",
   "name": "tensorflow"
  },
  "language_info": {
   "codemirror_mode": {
    "name": "ipython",
    "version": 3
   },
   "file_extension": ".py",
   "mimetype": "text/x-python",
   "name": "python",
   "nbconvert_exporter": "python",
   "pygments_lexer": "ipython3",
   "version": "3.6.0"
  }
 },
 "nbformat": 4,
 "nbformat_minor": 2
}
